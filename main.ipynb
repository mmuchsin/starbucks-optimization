{
 "cells": [
  {
   "cell_type": "code",
   "execution_count": 9,
   "metadata": {
    "tags": []
   },
   "outputs": [],
   "source": [
    "import pandas as pd\n",
    "import numpy as np\n",
    "import matplotlib.pyplot as plt\n",
    "import seaborn as sns\n",
    "import json\n",
    "%matplotlib inline"
   ]
  },
  {
   "cell_type": "code",
   "execution_count": 10,
   "metadata": {},
   "outputs": [],
   "source": [
    "portfolio = pd.read_json('dataset/portfolio.json', orient='records', lines=True)\n",
    "profile = pd.read_json('dataset/profile.json', orient='records', lines=True)\n",
    "transcript = pd.read_json('dataset/transcript.json', orient='records', lines=True)"
   ]
  },
  {
   "cell_type": "markdown",
   "metadata": {},
   "source": [
    "# Exploratory Data Analysis and Data Cleaning"
   ]
  },
  {
   "cell_type": "markdown",
   "metadata": {},
   "source": [
    "## Portfolio dataset"
   ]
  },
  {
   "cell_type": "code",
   "execution_count": 11,
   "metadata": {},
   "outputs": [
    {
     "data": {
      "text/html": [
       "<div>\n",
       "<style scoped>\n",
       "    .dataframe tbody tr th:only-of-type {\n",
       "        vertical-align: middle;\n",
       "    }\n",
       "\n",
       "    .dataframe tbody tr th {\n",
       "        vertical-align: top;\n",
       "    }\n",
       "\n",
       "    .dataframe thead th {\n",
       "        text-align: right;\n",
       "    }\n",
       "</style>\n",
       "<table border=\"1\" class=\"dataframe\">\n",
       "  <thead>\n",
       "    <tr style=\"text-align: right;\">\n",
       "      <th></th>\n",
       "      <th>reward</th>\n",
       "      <th>channels</th>\n",
       "      <th>difficulty</th>\n",
       "      <th>duration</th>\n",
       "      <th>offer_type</th>\n",
       "      <th>id</th>\n",
       "    </tr>\n",
       "  </thead>\n",
       "  <tbody>\n",
       "    <tr>\n",
       "      <th>0</th>\n",
       "      <td>10</td>\n",
       "      <td>[email, mobile, social]</td>\n",
       "      <td>10</td>\n",
       "      <td>7</td>\n",
       "      <td>bogo</td>\n",
       "      <td>ae264e3637204a6fb9bb56bc8210ddfd</td>\n",
       "    </tr>\n",
       "    <tr>\n",
       "      <th>1</th>\n",
       "      <td>10</td>\n",
       "      <td>[web, email, mobile, social]</td>\n",
       "      <td>10</td>\n",
       "      <td>5</td>\n",
       "      <td>bogo</td>\n",
       "      <td>4d5c57ea9a6940dd891ad53e9dbe8da0</td>\n",
       "    </tr>\n",
       "    <tr>\n",
       "      <th>2</th>\n",
       "      <td>0</td>\n",
       "      <td>[web, email, mobile]</td>\n",
       "      <td>0</td>\n",
       "      <td>4</td>\n",
       "      <td>informational</td>\n",
       "      <td>3f207df678b143eea3cee63160fa8bed</td>\n",
       "    </tr>\n",
       "    <tr>\n",
       "      <th>3</th>\n",
       "      <td>5</td>\n",
       "      <td>[web, email, mobile]</td>\n",
       "      <td>5</td>\n",
       "      <td>7</td>\n",
       "      <td>bogo</td>\n",
       "      <td>9b98b8c7a33c4b65b9aebfe6a799e6d9</td>\n",
       "    </tr>\n",
       "    <tr>\n",
       "      <th>4</th>\n",
       "      <td>5</td>\n",
       "      <td>[web, email]</td>\n",
       "      <td>20</td>\n",
       "      <td>10</td>\n",
       "      <td>discount</td>\n",
       "      <td>0b1e1539f2cc45b7b9fa7c272da2e1d7</td>\n",
       "    </tr>\n",
       "    <tr>\n",
       "      <th>5</th>\n",
       "      <td>3</td>\n",
       "      <td>[web, email, mobile, social]</td>\n",
       "      <td>7</td>\n",
       "      <td>7</td>\n",
       "      <td>discount</td>\n",
       "      <td>2298d6c36e964ae4a3e7e9706d1fb8c2</td>\n",
       "    </tr>\n",
       "    <tr>\n",
       "      <th>6</th>\n",
       "      <td>2</td>\n",
       "      <td>[web, email, mobile, social]</td>\n",
       "      <td>10</td>\n",
       "      <td>10</td>\n",
       "      <td>discount</td>\n",
       "      <td>fafdcd668e3743c1bb461111dcafc2a4</td>\n",
       "    </tr>\n",
       "    <tr>\n",
       "      <th>7</th>\n",
       "      <td>0</td>\n",
       "      <td>[email, mobile, social]</td>\n",
       "      <td>0</td>\n",
       "      <td>3</td>\n",
       "      <td>informational</td>\n",
       "      <td>5a8bc65990b245e5a138643cd4eb9837</td>\n",
       "    </tr>\n",
       "    <tr>\n",
       "      <th>8</th>\n",
       "      <td>5</td>\n",
       "      <td>[web, email, mobile, social]</td>\n",
       "      <td>5</td>\n",
       "      <td>5</td>\n",
       "      <td>bogo</td>\n",
       "      <td>f19421c1d4aa40978ebb69ca19b0e20d</td>\n",
       "    </tr>\n",
       "    <tr>\n",
       "      <th>9</th>\n",
       "      <td>2</td>\n",
       "      <td>[web, email, mobile]</td>\n",
       "      <td>10</td>\n",
       "      <td>7</td>\n",
       "      <td>discount</td>\n",
       "      <td>2906b810c7d4411798c6938adc9daaa5</td>\n",
       "    </tr>\n",
       "  </tbody>\n",
       "</table>\n",
       "</div>"
      ],
      "text/plain": [
       "   reward                      channels  difficulty  duration     offer_type  \\\n",
       "0      10       [email, mobile, social]          10         7           bogo   \n",
       "1      10  [web, email, mobile, social]          10         5           bogo   \n",
       "2       0          [web, email, mobile]           0         4  informational   \n",
       "3       5          [web, email, mobile]           5         7           bogo   \n",
       "4       5                  [web, email]          20        10       discount   \n",
       "5       3  [web, email, mobile, social]           7         7       discount   \n",
       "6       2  [web, email, mobile, social]          10        10       discount   \n",
       "7       0       [email, mobile, social]           0         3  informational   \n",
       "8       5  [web, email, mobile, social]           5         5           bogo   \n",
       "9       2          [web, email, mobile]          10         7       discount   \n",
       "\n",
       "                                 id  \n",
       "0  ae264e3637204a6fb9bb56bc8210ddfd  \n",
       "1  4d5c57ea9a6940dd891ad53e9dbe8da0  \n",
       "2  3f207df678b143eea3cee63160fa8bed  \n",
       "3  9b98b8c7a33c4b65b9aebfe6a799e6d9  \n",
       "4  0b1e1539f2cc45b7b9fa7c272da2e1d7  \n",
       "5  2298d6c36e964ae4a3e7e9706d1fb8c2  \n",
       "6  fafdcd668e3743c1bb461111dcafc2a4  \n",
       "7  5a8bc65990b245e5a138643cd4eb9837  \n",
       "8  f19421c1d4aa40978ebb69ca19b0e20d  \n",
       "9  2906b810c7d4411798c6938adc9daaa5  "
      ]
     },
     "execution_count": 11,
     "metadata": {},
     "output_type": "execute_result"
    }
   ],
   "source": [
    "portfolio"
   ]
  },
  {
   "cell_type": "code",
   "execution_count": 12,
   "metadata": {},
   "outputs": [
    {
     "name": "stdout",
     "output_type": "stream",
     "text": [
      "<class 'pandas.core.frame.DataFrame'>\n",
      "RangeIndex: 10 entries, 0 to 9\n",
      "Data columns (total 6 columns):\n",
      " #   Column      Non-Null Count  Dtype \n",
      "---  ------      --------------  ----- \n",
      " 0   reward      10 non-null     int64 \n",
      " 1   channels    10 non-null     object\n",
      " 2   difficulty  10 non-null     int64 \n",
      " 3   duration    10 non-null     int64 \n",
      " 4   offer_type  10 non-null     object\n",
      " 5   id          10 non-null     object\n",
      "dtypes: int64(3), object(3)\n",
      "memory usage: 608.0+ bytes\n"
     ]
    }
   ],
   "source": [
    "portfolio.info()"
   ]
  },
  {
   "cell_type": "code",
   "execution_count": 13,
   "metadata": {},
   "outputs": [
    {
     "data": {
      "text/plain": [
       "Text(0, 0.5, 'Count')"
      ]
     },
     "execution_count": 13,
     "metadata": {},
     "output_type": "execute_result"
    },
    {
     "data": {
      "image/png": "[encoded data removed]",
      "text/plain": [
       "<Figure size 1000x600 with 1 Axes>"
      ]
     },
     "metadata": {},
     "output_type": "display_data"
    }
   ],
   "source": [
    "grouped = portfolio.groupby(['difficulty', 'offer_type']).size().unstack()\n",
    "\n",
    "# Create a bar chart\n",
    "ax = grouped.plot(kind='bar', stacked=True, figsize=(10,6))\n",
    "\n",
    "# Set the chart title and axis labels\n",
    "ax.set_title('Offer Type by Difficulty Level')\n",
    "ax.set_xlabel('Difficulty')\n",
    "ax.set_ylabel('Count')"
   ]
  },
  {
   "cell_type": "code",
   "execution_count": 14,
   "metadata": {},
   "outputs": [
    {
     "data": {
      "text/html": [
       "<div>\n",
       "<style scoped>\n",
       "    .dataframe tbody tr th:only-of-type {\n",
       "        vertical-align: middle;\n",
       "    }\n",
       "\n",
       "    .dataframe tbody tr th {\n",
       "        vertical-align: top;\n",
       "    }\n",
       "\n",
       "    .dataframe thead tr th {\n",
       "        text-align: left;\n",
       "    }\n",
       "\n",
       "    .dataframe thead tr:last-of-type th {\n",
       "        text-align: right;\n",
       "    }\n",
       "</style>\n",
       "<table border=\"1\" class=\"dataframe\">\n",
       "  <thead>\n",
       "    <tr>\n",
       "      <th></th>\n",
       "      <th colspan=\"4\" halign=\"left\">reward</th>\n",
       "      <th colspan=\"3\" halign=\"left\">duration</th>\n",
       "      <th>offer_type</th>\n",
       "    </tr>\n",
       "    <tr>\n",
       "      <th></th>\n",
       "      <th>min</th>\n",
       "      <th>max</th>\n",
       "      <th>mean</th>\n",
       "      <th>count</th>\n",
       "      <th>min</th>\n",
       "      <th>max</th>\n",
       "      <th>mean</th>\n",
       "      <th>&lt;lambda&gt;</th>\n",
       "    </tr>\n",
       "    <tr>\n",
       "      <th>difficulty</th>\n",
       "      <th></th>\n",
       "      <th></th>\n",
       "      <th></th>\n",
       "      <th></th>\n",
       "      <th></th>\n",
       "      <th></th>\n",
       "      <th></th>\n",
       "      <th></th>\n",
       "    </tr>\n",
       "  </thead>\n",
       "  <tbody>\n",
       "    <tr>\n",
       "      <th>0</th>\n",
       "      <td>0</td>\n",
       "      <td>0</td>\n",
       "      <td>0.0</td>\n",
       "      <td>2</td>\n",
       "      <td>3</td>\n",
       "      <td>4</td>\n",
       "      <td>3.50</td>\n",
       "      <td>informational</td>\n",
       "    </tr>\n",
       "    <tr>\n",
       "      <th>5</th>\n",
       "      <td>5</td>\n",
       "      <td>5</td>\n",
       "      <td>5.0</td>\n",
       "      <td>2</td>\n",
       "      <td>5</td>\n",
       "      <td>7</td>\n",
       "      <td>6.00</td>\n",
       "      <td>bogo</td>\n",
       "    </tr>\n",
       "    <tr>\n",
       "      <th>7</th>\n",
       "      <td>3</td>\n",
       "      <td>3</td>\n",
       "      <td>3.0</td>\n",
       "      <td>1</td>\n",
       "      <td>7</td>\n",
       "      <td>7</td>\n",
       "      <td>7.00</td>\n",
       "      <td>discount</td>\n",
       "    </tr>\n",
       "    <tr>\n",
       "      <th>10</th>\n",
       "      <td>2</td>\n",
       "      <td>10</td>\n",
       "      <td>6.0</td>\n",
       "      <td>4</td>\n",
       "      <td>5</td>\n",
       "      <td>10</td>\n",
       "      <td>7.25</td>\n",
       "      <td>bogo</td>\n",
       "    </tr>\n",
       "    <tr>\n",
       "      <th>20</th>\n",
       "      <td>5</td>\n",
       "      <td>5</td>\n",
       "      <td>5.0</td>\n",
       "      <td>1</td>\n",
       "      <td>10</td>\n",
       "      <td>10</td>\n",
       "      <td>10.00</td>\n",
       "      <td>discount</td>\n",
       "    </tr>\n",
       "  </tbody>\n",
       "</table>\n",
       "</div>"
      ],
      "text/plain": [
       "           reward                duration                offer_type\n",
       "              min max mean count      min max   mean       <lambda>\n",
       "difficulty                                                         \n",
       "0               0   0  0.0     2        3   4   3.50  informational\n",
       "5               5   5  5.0     2        5   7   6.00           bogo\n",
       "7               3   3  3.0     1        7   7   7.00       discount\n",
       "10              2  10  6.0     4        5  10   7.25           bogo\n",
       "20              5   5  5.0     1       10  10  10.00       discount"
      ]
     },
     "execution_count": 14,
     "metadata": {},
     "output_type": "execute_result"
    }
   ],
   "source": [
    "portfolio.groupby('difficulty').agg({\n",
    "    'reward': ['min', 'max', 'mean', 'count'],\n",
    "    'duration': ['min', 'max', 'mean'],\n",
    "    'offer_type': lambda x: x.mode().iloc[0]\n",
    "})"
   ]
  },
  {
   "cell_type": "markdown",
   "metadata": {},
   "source": [
    "**insights**:\n",
    "- there're no null values\n",
    "- `channels` written in the list format\n",
    "- there're 4 promotional channels\n",
    "- there're 10 unique offers with 2 informational, 6 bogo, and 2 discount\n",
    "- difficulty 0 offers are all informational and do not have any reward\n",
    "- difficulty 5 offers are all bogo and have reward amounts of 5, with durations ranging from 5 to 7 days\n",
    "- difficulty 7 offers are all discount and have reward amounts of 5, with the duration of 7 days\n",
    "- difficulty 10 offers are all bogo and have reward amounts ranging from 2 to 10, with durations ranging from 5 to 10 days\n",
    "- difficulty 20 offers are all discount with a reward amount of 5 and a duration of 10 days- there're no null values\n",
    "- comparing reward per hour across different offer types (BOGO, discount, informational) can reveal which types of offers are most effective at driving customer engagement and sales. this can inform decisions about which offers to include in future marketing campaigns and how to tailor offers to different customer segments."
   ]
  },
  {
   "cell_type": "markdown",
   "metadata": {},
   "source": [
    "**to-do:**\n",
    "- change `id` to `offer_id`\n",
    "- extract `channels`\n",
    "- one hote encode `channels`\n",
    "- change `duration` from day to hour\n",
    "- create `reward_per_hour` column\n",
    "- one hot encode `offer_type`\n",
    "- reorder columns"
   ]
  },
  {
   "cell_type": "code",
   "execution_count": 15,
   "metadata": {},
   "outputs": [],
   "source": [
    "portfolio_mod = portfolio.copy()"
   ]
  },
  {
   "cell_type": "code",
   "execution_count": 16,
   "metadata": {},
   "outputs": [],
   "source": [
    "portfolio_mod.rename(columns={'id': 'offer_id'}, inplace=True)"
   ]
  },
  {
   "cell_type": "code",
   "execution_count": 17,
   "metadata": {},
   "outputs": [],
   "source": [
    "channels = portfolio_mod['channels'].str.join(sep='*').str.get_dummies(sep='*')\n",
    "offer_types = pd.get_dummies(portfolio_mod['offer_type'])\n",
    "portfolio_mod['duration'] = portfolio_mod['duration'] * 24\n",
    "portfolio_mod['reward_per_hour'] = portfolio_mod['reward'] / portfolio_mod['duration']"
   ]
  },
  {
   "cell_type": "code",
   "execution_count": 18,
   "metadata": {},
   "outputs": [],
   "source": [
    "portfolio_mod = pd.concat([portfolio_mod, channels, offer_types], axis=1)"
   ]
  },
  {
   "cell_type": "code",
   "execution_count": 19,
   "metadata": {},
   "outputs": [
    {
     "data": {
      "text/plain": [
       "Index(['reward', 'channels', 'difficulty', 'duration', 'offer_type',\n",
       "       'offer_id', 'reward_per_hour', 'email', 'mobile', 'social', 'web',\n",
       "       'bogo', 'discount', 'informational'],\n",
       "      dtype='object')"
      ]
     },
     "execution_count": 19,
     "metadata": {},
     "output_type": "execute_result"
    }
   ],
   "source": [
    "portfolio_mod.columns"
   ]
  },
  {
   "cell_type": "code",
   "execution_count": 20,
   "metadata": {},
   "outputs": [],
   "source": [
    "portfolio_mod.drop(['channels', 'offer_type'], axis=1, inplace=True)"
   ]
  },
  {
   "cell_type": "code",
   "execution_count": 21,
   "metadata": {},
   "outputs": [
    {
     "data": {
      "text/html": [
       "<div>\n",
       "<style scoped>\n",
       "    .dataframe tbody tr th:only-of-type {\n",
       "        vertical-align: middle;\n",
       "    }\n",
       "\n",
       "    .dataframe tbody tr th {\n",
       "        vertical-align: top;\n",
       "    }\n",
       "\n",
       "    .dataframe thead th {\n",
       "        text-align: right;\n",
       "    }\n",
       "</style>\n",
       "<table border=\"1\" class=\"dataframe\">\n",
       "  <thead>\n",
       "    <tr style=\"text-align: right;\">\n",
       "      <th></th>\n",
       "      <th>offer_id</th>\n",
       "      <th>difficulty</th>\n",
       "      <th>duration</th>\n",
       "      <th>reward_per_hour</th>\n",
       "      <th>email</th>\n",
       "      <th>mobile</th>\n",
       "      <th>social</th>\n",
       "      <th>web</th>\n",
       "      <th>bogo</th>\n",
       "      <th>discount</th>\n",
       "      <th>informational</th>\n",
       "    </tr>\n",
       "  </thead>\n",
       "  <tbody>\n",
       "    <tr>\n",
       "      <th>0</th>\n",
       "      <td>ae264e3637204a6fb9bb56bc8210ddfd</td>\n",
       "      <td>10</td>\n",
       "      <td>168</td>\n",
       "      <td>0.059524</td>\n",
       "      <td>1</td>\n",
       "      <td>1</td>\n",
       "      <td>1</td>\n",
       "      <td>0</td>\n",
       "      <td>1</td>\n",
       "      <td>0</td>\n",
       "      <td>0</td>\n",
       "    </tr>\n",
       "    <tr>\n",
       "      <th>1</th>\n",
       "      <td>4d5c57ea9a6940dd891ad53e9dbe8da0</td>\n",
       "      <td>10</td>\n",
       "      <td>120</td>\n",
       "      <td>0.083333</td>\n",
       "      <td>1</td>\n",
       "      <td>1</td>\n",
       "      <td>1</td>\n",
       "      <td>1</td>\n",
       "      <td>1</td>\n",
       "      <td>0</td>\n",
       "      <td>0</td>\n",
       "    </tr>\n",
       "    <tr>\n",
       "      <th>2</th>\n",
       "      <td>3f207df678b143eea3cee63160fa8bed</td>\n",
       "      <td>0</td>\n",
       "      <td>96</td>\n",
       "      <td>0.000000</td>\n",
       "      <td>1</td>\n",
       "      <td>1</td>\n",
       "      <td>0</td>\n",
       "      <td>1</td>\n",
       "      <td>0</td>\n",
       "      <td>0</td>\n",
       "      <td>1</td>\n",
       "    </tr>\n",
       "    <tr>\n",
       "      <th>3</th>\n",
       "      <td>9b98b8c7a33c4b65b9aebfe6a799e6d9</td>\n",
       "      <td>5</td>\n",
       "      <td>168</td>\n",
       "      <td>0.029762</td>\n",
       "      <td>1</td>\n",
       "      <td>1</td>\n",
       "      <td>0</td>\n",
       "      <td>1</td>\n",
       "      <td>1</td>\n",
       "      <td>0</td>\n",
       "      <td>0</td>\n",
       "    </tr>\n",
       "    <tr>\n",
       "      <th>4</th>\n",
       "      <td>0b1e1539f2cc45b7b9fa7c272da2e1d7</td>\n",
       "      <td>20</td>\n",
       "      <td>240</td>\n",
       "      <td>0.020833</td>\n",
       "      <td>1</td>\n",
       "      <td>0</td>\n",
       "      <td>0</td>\n",
       "      <td>1</td>\n",
       "      <td>0</td>\n",
       "      <td>1</td>\n",
       "      <td>0</td>\n",
       "    </tr>\n",
       "    <tr>\n",
       "      <th>5</th>\n",
       "      <td>2298d6c36e964ae4a3e7e9706d1fb8c2</td>\n",
       "      <td>7</td>\n",
       "      <td>168</td>\n",
       "      <td>0.017857</td>\n",
       "      <td>1</td>\n",
       "      <td>1</td>\n",
       "      <td>1</td>\n",
       "      <td>1</td>\n",
       "      <td>0</td>\n",
       "      <td>1</td>\n",
       "      <td>0</td>\n",
       "    </tr>\n",
       "    <tr>\n",
       "      <th>6</th>\n",
       "      <td>fafdcd668e3743c1bb461111dcafc2a4</td>\n",
       "      <td>10</td>\n",
       "      <td>240</td>\n",
       "      <td>0.008333</td>\n",
       "      <td>1</td>\n",
       "      <td>1</td>\n",
       "      <td>1</td>\n",
       "      <td>1</td>\n",
       "      <td>0</td>\n",
       "      <td>1</td>\n",
       "      <td>0</td>\n",
       "    </tr>\n",
       "    <tr>\n",
       "      <th>7</th>\n",
       "      <td>5a8bc65990b245e5a138643cd4eb9837</td>\n",
       "      <td>0</td>\n",
       "      <td>72</td>\n",
       "      <td>0.000000</td>\n",
       "      <td>1</td>\n",
       "      <td>1</td>\n",
       "      <td>1</td>\n",
       "      <td>0</td>\n",
       "      <td>0</td>\n",
       "      <td>0</td>\n",
       "      <td>1</td>\n",
       "    </tr>\n",
       "    <tr>\n",
       "      <th>8</th>\n",
       "      <td>f19421c1d4aa40978ebb69ca19b0e20d</td>\n",
       "      <td>5</td>\n",
       "      <td>120</td>\n",
       "      <td>0.041667</td>\n",
       "      <td>1</td>\n",
       "      <td>1</td>\n",
       "      <td>1</td>\n",
       "      <td>1</td>\n",
       "      <td>1</td>\n",
       "      <td>0</td>\n",
       "      <td>0</td>\n",
       "    </tr>\n",
       "    <tr>\n",
       "      <th>9</th>\n",
       "      <td>2906b810c7d4411798c6938adc9daaa5</td>\n",
       "      <td>10</td>\n",
       "      <td>168</td>\n",
       "      <td>0.011905</td>\n",
       "      <td>1</td>\n",
       "      <td>1</td>\n",
       "      <td>0</td>\n",
       "      <td>1</td>\n",
       "      <td>0</td>\n",
       "      <td>1</td>\n",
       "      <td>0</td>\n",
       "    </tr>\n",
       "  </tbody>\n",
       "</table>\n",
       "</div>"
      ],
      "text/plain": [
       "                           offer_id  difficulty  duration  reward_per_hour  \\\n",
       "0  ae264e3637204a6fb9bb56bc8210ddfd          10       168         0.059524   \n",
       "1  4d5c57ea9a6940dd891ad53e9dbe8da0          10       120         0.083333   \n",
       "2  3f207df678b143eea3cee63160fa8bed           0        96         0.000000   \n",
       "3  9b98b8c7a33c4b65b9aebfe6a799e6d9           5       168         0.029762   \n",
       "4  0b1e1539f2cc45b7b9fa7c272da2e1d7          20       240         0.020833   \n",
       "5  2298d6c36e964ae4a3e7e9706d1fb8c2           7       168         0.017857   \n",
       "6  fafdcd668e3743c1bb461111dcafc2a4          10       240         0.008333   \n",
       "7  5a8bc65990b245e5a138643cd4eb9837           0        72         0.000000   \n",
       "8  f19421c1d4aa40978ebb69ca19b0e20d           5       120         0.041667   \n",
       "9  2906b810c7d4411798c6938adc9daaa5          10       168         0.011905   \n",
       "\n",
       "   email  mobile  social  web  bogo  discount  informational  \n",
       "0      1       1       1    0     1         0              0  \n",
       "1      1       1       1    1     1         0              0  \n",
       "2      1       1       0    1     0         0              1  \n",
       "3      1       1       0    1     1         0              0  \n",
       "4      1       0       0    1     0         1              0  \n",
       "5      1       1       1    1     0         1              0  \n",
       "6      1       1       1    1     0         1              0  \n",
       "7      1       1       1    0     0         0              1  \n",
       "8      1       1       1    1     1         0              0  \n",
       "9      1       1       0    1     0         1              0  "
      ]
     },
     "execution_count": 21,
     "metadata": {},
     "output_type": "execute_result"
    }
   ],
   "source": [
    "portfolio_mod = portfolio_mod[['offer_id','difficulty', 'duration', 'reward_per_hour', 'email', 'mobile', 'social', 'web', 'bogo', 'discount', 'informational']]\n",
    "portfolio_mod"
   ]
  },
  {
   "cell_type": "markdown",
   "metadata": {},
   "source": [
    "## Profile dataset"
   ]
  },
  {
   "cell_type": "code",
   "execution_count": 22,
   "metadata": {},
   "outputs": [
    {
     "data": {
      "text/html": [
       "<div>\n",
       "<style scoped>\n",
       "    .dataframe tbody tr th:only-of-type {\n",
       "        vertical-align: middle;\n",
       "    }\n",
       "\n",
       "    .dataframe tbody tr th {\n",
       "        vertical-align: top;\n",
       "    }\n",
       "\n",
       "    .dataframe thead th {\n",
       "        text-align: right;\n",
       "    }\n",
       "</style>\n",
       "<table border=\"1\" class=\"dataframe\">\n",
       "  <thead>\n",
       "    <tr style=\"text-align: right;\">\n",
       "      <th></th>\n",
       "      <th>gender</th>\n",
       "      <th>age</th>\n",
       "      <th>id</th>\n",
       "      <th>became_member_on</th>\n",
       "      <th>income</th>\n",
       "    </tr>\n",
       "  </thead>\n",
       "  <tbody>\n",
       "    <tr>\n",
       "      <th>0</th>\n",
       "      <td>None</td>\n",
       "      <td>118</td>\n",
       "      <td>68be06ca386d4c31939f3a4f0e3dd783</td>\n",
       "      <td>20170212</td>\n",
       "      <td>NaN</td>\n",
       "    </tr>\n",
       "    <tr>\n",
       "      <th>1</th>\n",
       "      <td>F</td>\n",
       "      <td>55</td>\n",
       "      <td>0610b486422d4921ae7d2bf64640c50b</td>\n",
       "      <td>20170715</td>\n",
       "      <td>112000.0</td>\n",
       "    </tr>\n",
       "    <tr>\n",
       "      <th>2</th>\n",
       "      <td>None</td>\n",
       "      <td>118</td>\n",
       "      <td>38fe809add3b4fcf9315a9694bb96ff5</td>\n",
       "      <td>20180712</td>\n",
       "      <td>NaN</td>\n",
       "    </tr>\n",
       "    <tr>\n",
       "      <th>3</th>\n",
       "      <td>F</td>\n",
       "      <td>75</td>\n",
       "      <td>78afa995795e4d85b5d9ceeca43f5fef</td>\n",
       "      <td>20170509</td>\n",
       "      <td>100000.0</td>\n",
       "    </tr>\n",
       "    <tr>\n",
       "      <th>4</th>\n",
       "      <td>None</td>\n",
       "      <td>118</td>\n",
       "      <td>a03223e636434f42ac4c3df47e8bac43</td>\n",
       "      <td>20170804</td>\n",
       "      <td>NaN</td>\n",
       "    </tr>\n",
       "  </tbody>\n",
       "</table>\n",
       "</div>"
      ],
      "text/plain": [
       "  gender  age                                id  became_member_on    income\n",
       "0   None  118  68be06ca386d4c31939f3a4f0e3dd783          20170212       NaN\n",
       "1      F   55  0610b486422d4921ae7d2bf64640c50b          20170715  112000.0\n",
       "2   None  118  38fe809add3b4fcf9315a9694bb96ff5          20180712       NaN\n",
       "3      F   75  78afa995795e4d85b5d9ceeca43f5fef          20170509  100000.0\n",
       "4   None  118  a03223e636434f42ac4c3df47e8bac43          20170804       NaN"
      ]
     },
     "execution_count": 22,
     "metadata": {},
     "output_type": "execute_result"
    }
   ],
   "source": [
    "profile.head()"
   ]
  },
  {
   "cell_type": "code",
   "execution_count": 23,
   "metadata": {},
   "outputs": [
    {
     "name": "stdout",
     "output_type": "stream",
     "text": [
      "<class 'pandas.core.frame.DataFrame'>\n",
      "RangeIndex: 17000 entries, 0 to 16999\n",
      "Data columns (total 5 columns):\n",
      " #   Column            Non-Null Count  Dtype  \n",
      "---  ------            --------------  -----  \n",
      " 0   gender            14825 non-null  object \n",
      " 1   age               17000 non-null  int64  \n",
      " 2   id                17000 non-null  object \n",
      " 3   became_member_on  17000 non-null  int64  \n",
      " 4   income            14825 non-null  float64\n",
      "dtypes: float64(1), int64(2), object(2)\n",
      "memory usage: 664.2+ KB\n"
     ]
    }
   ],
   "source": [
    "profile.info()"
   ]
  },
  {
   "cell_type": "code",
   "execution_count": 24,
   "metadata": {},
   "outputs": [
    {
     "data": {
      "text/plain": [
       "gender              2175\n",
       "age                    0\n",
       "id                     0\n",
       "became_member_on       0\n",
       "income              2175\n",
       "dtype: int64"
      ]
     },
     "execution_count": 24,
     "metadata": {},
     "output_type": "execute_result"
    }
   ],
   "source": [
    "profile.isna().sum()"
   ]
  },
  {
   "cell_type": "code",
   "execution_count": 25,
   "metadata": {},
   "outputs": [
    {
     "data": {
      "text/plain": [
       "array([None, 'F', 'M', 'O'], dtype=object)"
      ]
     },
     "execution_count": 25,
     "metadata": {},
     "output_type": "execute_result"
    }
   ],
   "source": [
    "profile.gender.unique()"
   ]
  },
  {
   "cell_type": "code",
   "execution_count": 26,
   "metadata": {},
   "outputs": [
    {
     "data": {
      "text/plain": [
       "M    8484\n",
       "F    6129\n",
       "O     212\n",
       "Name: gender, dtype: int64"
      ]
     },
     "execution_count": 26,
     "metadata": {},
     "output_type": "execute_result"
    }
   ],
   "source": [
    "profile.gender.value_counts()"
   ]
  },
  {
   "cell_type": "code",
   "execution_count": 27,
   "metadata": {},
   "outputs": [
    {
     "data": {
      "text/plain": [
       "([<matplotlib.patches.Wedge at 0x7fa0399745b0>,\n",
       "  <matplotlib.patches.Wedge at 0x7fa039974b20>,\n",
       "  <matplotlib.patches.Wedge at 0x7fa0399751b0>],\n",
       " [Text(-0.24762902922809168, 1.0717648360921126, 'M'),\n",
       "  Text(0.19924591390285712, -1.0818045413997002, 'F'),\n",
       "  Text(1.098890122095961, -0.049401412529646305, 'O')],\n",
       " [Text(-0.1350703795789591, 0.5845990015047886, '57.2%'),\n",
       "  Text(0.10867958940155842, -0.5900752043998364, '41.3%'),\n",
       "  Text(0.5993946120523422, -0.026946225016170708, '1.4%')])"
      ]
     },
     "execution_count": 27,
     "metadata": {},
     "output_type": "execute_result"
    },
    {
     "data": {
      "image/png": "[encoded data removed]",
      "text/plain": [
       "<Figure size 640x480 with 1 Axes>"
      ]
     },
     "metadata": {},
     "output_type": "display_data"
    }
   ],
   "source": [
    "gender_count = profile['gender'].value_counts()\n",
    "plt.pie(gender_count, labels=gender_count.index, autopct='%1.1f%%')"
   ]
  },
  {
   "cell_type": "code",
   "execution_count": 28,
   "metadata": {},
   "outputs": [
    {
     "data": {
      "text/plain": [
       "Text(0.5, 1.0, 'Age distribution')"
      ]
     },
     "execution_count": 28,
     "metadata": {},
     "output_type": "execute_result"
    },
    {
     "data": {
      "image/png": "[encoded data removed]",
      "text/plain": [
       "<Figure size 500x500 with 1 Axes>"
      ]
     },
     "metadata": {},
     "output_type": "display_data"
    }
   ],
   "source": [
    "sns.displot(profile, x='age')\n",
    "plt.xlabel('Age')\n",
    "plt.ylabel('Count')\n",
    "plt.title('Age distribution')"
   ]
  },
  {
   "cell_type": "code",
   "execution_count": 29,
   "metadata": {},
   "outputs": [
    {
     "data": {
      "text/plain": [
       "Text(0.5, 1.0, 'Age distribution')"
      ]
     },
     "execution_count": 29,
     "metadata": {},
     "output_type": "execute_result"
    },
    {
     "data": {
      "image/png": "[encoded data removed]",
      "text/plain": [
       "<Figure size 640x480 with 1 Axes>"
      ]
     },
     "metadata": {},
     "output_type": "display_data"
    }
   ],
   "source": [
    "plt.boxplot(profile['age'])\n",
    "plt.ylabel('Age')\n",
    "plt.title('Age distribution')"
   ]
  },
  {
   "cell_type": "code",
   "execution_count": 30,
   "metadata": {},
   "outputs": [
    {
     "data": {
      "text/plain": [
       "<AxesSubplot: xlabel='gender', ylabel='age'>"
      ]
     },
     "execution_count": 30,
     "metadata": {},
     "output_type": "execute_result"
    },
    {
     "data": {
      "image/png": "[encoded data removed]",
      "text/plain": [
       "<Figure size 640x480 with 1 Axes>"
      ]
     },
     "metadata": {},
     "output_type": "display_data"
    }
   ],
   "source": [
    "sns.boxplot(x='gender', y='age', data=profile)"
   ]
  },
  {
   "cell_type": "code",
   "execution_count": 31,
   "metadata": {},
   "outputs": [
    {
     "data": {
      "text/html": [
       "<div>\n",
       "<style scoped>\n",
       "    .dataframe tbody tr th:only-of-type {\n",
       "        vertical-align: middle;\n",
       "    }\n",
       "\n",
       "    .dataframe tbody tr th {\n",
       "        vertical-align: top;\n",
       "    }\n",
       "\n",
       "    .dataframe thead th {\n",
       "        text-align: right;\n",
       "    }\n",
       "</style>\n",
       "<table border=\"1\" class=\"dataframe\">\n",
       "  <thead>\n",
       "    <tr style=\"text-align: right;\">\n",
       "      <th></th>\n",
       "      <th>age</th>\n",
       "      <th>became_member_on</th>\n",
       "      <th>income</th>\n",
       "    </tr>\n",
       "  </thead>\n",
       "  <tbody>\n",
       "    <tr>\n",
       "      <th>count</th>\n",
       "      <td>2175.0</td>\n",
       "      <td>2.175000e+03</td>\n",
       "      <td>0.0</td>\n",
       "    </tr>\n",
       "    <tr>\n",
       "      <th>mean</th>\n",
       "      <td>118.0</td>\n",
       "      <td>2.016804e+07</td>\n",
       "      <td>NaN</td>\n",
       "    </tr>\n",
       "    <tr>\n",
       "      <th>std</th>\n",
       "      <td>0.0</td>\n",
       "      <td>1.009105e+04</td>\n",
       "      <td>NaN</td>\n",
       "    </tr>\n",
       "    <tr>\n",
       "      <th>min</th>\n",
       "      <td>118.0</td>\n",
       "      <td>2.013080e+07</td>\n",
       "      <td>NaN</td>\n",
       "    </tr>\n",
       "    <tr>\n",
       "      <th>25%</th>\n",
       "      <td>118.0</td>\n",
       "      <td>2.016070e+07</td>\n",
       "      <td>NaN</td>\n",
       "    </tr>\n",
       "    <tr>\n",
       "      <th>50%</th>\n",
       "      <td>118.0</td>\n",
       "      <td>2.017073e+07</td>\n",
       "      <td>NaN</td>\n",
       "    </tr>\n",
       "    <tr>\n",
       "      <th>75%</th>\n",
       "      <td>118.0</td>\n",
       "      <td>2.017123e+07</td>\n",
       "      <td>NaN</td>\n",
       "    </tr>\n",
       "    <tr>\n",
       "      <th>max</th>\n",
       "      <td>118.0</td>\n",
       "      <td>2.018073e+07</td>\n",
       "      <td>NaN</td>\n",
       "    </tr>\n",
       "  </tbody>\n",
       "</table>\n",
       "</div>"
      ],
      "text/plain": [
       "          age  became_member_on  income\n",
       "count  2175.0      2.175000e+03     0.0\n",
       "mean    118.0      2.016804e+07     NaN\n",
       "std       0.0      1.009105e+04     NaN\n",
       "min     118.0      2.013080e+07     NaN\n",
       "25%     118.0      2.016070e+07     NaN\n",
       "50%     118.0      2.017073e+07     NaN\n",
       "75%     118.0      2.017123e+07     NaN\n",
       "max     118.0      2.018073e+07     NaN"
      ]
     },
     "execution_count": 31,
     "metadata": {},
     "output_type": "execute_result"
    }
   ],
   "source": [
    "mask = profile.isna().any(axis=1)\n",
    "null_rows = profile[mask]\n",
    "null_rows.describe()"
   ]
  },
  {
   "cell_type": "code",
   "execution_count": 32,
   "metadata": {},
   "outputs": [
    {
     "data": {
      "text/plain": [
       "array([None], dtype=object)"
      ]
     },
     "execution_count": 32,
     "metadata": {},
     "output_type": "execute_result"
    }
   ],
   "source": [
    "null_rows.gender.unique()"
   ]
  },
  {
   "cell_type": "code",
   "execution_count": 33,
   "metadata": {},
   "outputs": [
    {
     "data": {
      "text/plain": [
       "0"
      ]
     },
     "execution_count": 33,
     "metadata": {},
     "output_type": "execute_result"
    }
   ],
   "source": [
    "profile.duplicated().sum()"
   ]
  },
  {
   "cell_type": "code",
   "execution_count": 34,
   "metadata": {},
   "outputs": [
    {
     "data": {
      "text/html": [
       "<div>\n",
       "<style scoped>\n",
       "    .dataframe tbody tr th:only-of-type {\n",
       "        vertical-align: middle;\n",
       "    }\n",
       "\n",
       "    .dataframe tbody tr th {\n",
       "        vertical-align: top;\n",
       "    }\n",
       "\n",
       "    .dataframe thead th {\n",
       "        text-align: right;\n",
       "    }\n",
       "</style>\n",
       "<table border=\"1\" class=\"dataframe\">\n",
       "  <thead>\n",
       "    <tr style=\"text-align: right;\">\n",
       "      <th></th>\n",
       "      <th>gender</th>\n",
       "      <th>mean</th>\n",
       "      <th>median</th>\n",
       "      <th>mode</th>\n",
       "      <th>std</th>\n",
       "    </tr>\n",
       "  </thead>\n",
       "  <tbody>\n",
       "    <tr>\n",
       "      <th>0</th>\n",
       "      <td>F</td>\n",
       "      <td>57.544950</td>\n",
       "      <td>58.0</td>\n",
       "      <td>58</td>\n",
       "      <td>16.883315</td>\n",
       "    </tr>\n",
       "    <tr>\n",
       "      <th>1</th>\n",
       "      <td>M</td>\n",
       "      <td>52.116690</td>\n",
       "      <td>53.0</td>\n",
       "      <td>58</td>\n",
       "      <td>17.413894</td>\n",
       "    </tr>\n",
       "    <tr>\n",
       "      <th>2</th>\n",
       "      <td>O</td>\n",
       "      <td>54.400943</td>\n",
       "      <td>55.0</td>\n",
       "      <td>49</td>\n",
       "      <td>16.244710</td>\n",
       "    </tr>\n",
       "  </tbody>\n",
       "</table>\n",
       "</div>"
      ],
      "text/plain": [
       "  gender       mean  median  mode        std\n",
       "0      F  57.544950    58.0    58  16.883315\n",
       "1      M  52.116690    53.0    58  17.413894\n",
       "2      O  54.400943    55.0    49  16.244710"
      ]
     },
     "execution_count": 34,
     "metadata": {},
     "output_type": "execute_result"
    }
   ],
   "source": [
    "age_stats = profile.groupby('gender')['age'].agg(['mean', 'median', lambda x: x.mode()[0], 'std']).reset_index()\n",
    "age_stats.rename(columns={'<lambda_0>': 'mode'})"
   ]
  },
  {
   "cell_type": "markdown",
   "metadata": {},
   "source": [
    "a simple age categorization\n",
    "\n",
    "- Children: under 18 years old\n",
    "- Young adults: 18-24 years old\n",
    "- Adults: 25-64 years old\n",
    "- Seniors: 65 years old and above"
   ]
  },
  {
   "cell_type": "code",
   "execution_count": 35,
   "metadata": {},
   "outputs": [
    {
     "data": {
      "text/plain": [
       "Adults          9511\n",
       "Seniors         6752\n",
       "Young adults     737\n",
       "Children           0\n",
       "Name: age, dtype: int64"
      ]
     },
     "execution_count": 35,
     "metadata": {},
     "output_type": "execute_result"
    }
   ],
   "source": [
    "bins = [0, 18, 24, 64, 120]\n",
    "labels = ['Children', 'Young adults', 'Adults', 'Seniors']\n",
    "age_category = pd.cut(profile['age'], bins=bins, labels=labels, right=False)\n",
    "age_counts = pd.Series(age_category).value_counts()\n",
    "age_counts"
   ]
  },
  {
   "cell_type": "code",
   "execution_count": 37,
   "metadata": {},
   "outputs": [
    {
     "data": {
      "text/plain": [
       "<AxesSubplot: xlabel='age', ylabel='Count'>"
      ]
     },
     "execution_count": 37,
     "metadata": {},
     "output_type": "execute_result"
    },
    {
     "data": {
      "image/png": "[encoded data removed]",
      "text/plain": [
       "<Figure size 1500x500 with 3 Axes>"
      ]
     },
     "metadata": {},
     "output_type": "display_data"
    }
   ],
   "source": [
    "fig, axes = plt.subplots(1, 3, figsize=(15, 5))\n",
    "sns.histplot(data=profile[profile['gender'] == 'M'], x='age', hue='gender', kde=False, ax=axes[0])\n",
    "sns.histplot(data=profile[profile['gender'] == 'F'], x='age', hue='gender', kde=False, ax=axes[1])\n",
    "sns.histplot(data=profile[profile['gender'] == 'O'], x='age', hue='gender', kde=False, ax=axes[2])"
   ]
  },
  {
   "cell_type": "code",
   "execution_count": 38,
   "metadata": {},
   "outputs": [
    {
     "data": {
      "text/plain": [
       "Text(0.5, 1.0, 'Income distribution')"
      ]
     },
     "execution_count": 38,
     "metadata": {},
     "output_type": "execute_result"
    },
    {
     "data": {
      "image/png": "[encoded data removed]",
      "text/plain": [
       "<Figure size 500x500 with 1 Axes>"
      ]
     },
     "metadata": {},
     "output_type": "display_data"
    }
   ],
   "source": [
    "sns.displot(profile, x='income')\n",
    "plt.title('Income distribution')"
   ]
  },
  {
   "cell_type": "code",
   "execution_count": 39,
   "metadata": {},
   "outputs": [
    {
     "data": {
      "text/plain": [
       "<AxesSubplot: xlabel='income', ylabel='Count'>"
      ]
     },
     "execution_count": 39,
     "metadata": {},
     "output_type": "execute_result"
    },
    {
     "data": {
      "image/png": "[encoded data removed]",
      "text/plain": [
       "<Figure size 2000x500 with 3 Axes>"
      ]
     },
     "metadata": {},
     "output_type": "display_data"
    }
   ],
   "source": [
    "fig, axes = plt.subplots(1, 3, figsize=(20, 5))\n",
    "sns.histplot(data=profile[profile['gender'] == 'M'], x='income', hue='gender', kde=False, ax=axes[0])\n",
    "sns.histplot(data=profile[profile['gender'] == 'F'], x='income', hue='gender', kde=False, ax=axes[1])\n",
    "sns.histplot(data=profile[profile['gender'] == 'O'], x='income', hue='gender', kde=False, ax=axes[2])"
   ]
  },
  {
   "cell_type": "code",
   "execution_count": 40,
   "metadata": {},
   "outputs": [
    {
     "data": {
      "text/plain": [
       "gender\n",
       "F    71306.412139\n",
       "M    61194.601603\n",
       "O    63287.735849\n",
       "Name: income, dtype: float64"
      ]
     },
     "execution_count": 40,
     "metadata": {},
     "output_type": "execute_result"
    }
   ],
   "source": [
    "income_by_gender = profile.groupby('gender')['income'].mean()\n",
    "income_by_gender"
   ]
  },
  {
   "cell_type": "code",
   "execution_count": 41,
   "metadata": {},
   "outputs": [
    {
     "name": "stdout",
     "output_type": "stream",
     "text": [
      "<class 'pandas.core.frame.DataFrame'>\n",
      "RangeIndex: 17000 entries, 0 to 16999\n",
      "Data columns (total 5 columns):\n",
      " #   Column            Non-Null Count  Dtype  \n",
      "---  ------            --------------  -----  \n",
      " 0   gender            14825 non-null  object \n",
      " 1   age               17000 non-null  int64  \n",
      " 2   id                17000 non-null  object \n",
      " 3   became_member_on  17000 non-null  int64  \n",
      " 4   income            14825 non-null  float64\n",
      "dtypes: float64(1), int64(2), object(2)\n",
      "memory usage: 664.2+ KB\n"
     ]
    }
   ],
   "source": [
    "profile.info()"
   ]
  },
  {
   "cell_type": "markdown",
   "metadata": {},
   "source": [
    "**insights**:\n",
    "- there are some outliers in the age column, with some users having ages of 118 years. These outliers may need to be removed or handled in some way before performing further analysis.\n",
    "- there are some missing values in the gender, income, and age columns. Null values are present in 2175 rows.\n",
    "- the gender distribution is skewed towards males, with 8484 males, 6129 females, and 2121 other/unknown genders.\n",
    "- from the age distribution that the majority of customers in the dataset are adults, followed by young adults, seniors, and children. This suggests that the dataset primarily represents adult customers, which is not surprising given that the dataset is focused on customers of a coffee shop chain.\n",
    "- the distribution of income is positively skewed, meaning that there are relatively more customers with lower incomes (**males**) and fewer customers with higher incomes (**females**).\n",
    "- `became_member_on` is in `int64` instead of `datetime` format\n",
    "- the `became_member_on` column contains the date on which each user became a member of the Starbucks rewards program. can be used to calculate the length of time that a customer has been a member of the Starbucks rewards program. This can be a useful feature for predicting customer behavior, as customers who have been members for a longer time period may have different spending habits or preferences than newer members."
   ]
  },
  {
   "cell_type": "markdown",
   "metadata": {},
   "source": [
    "**to-do:**\n",
    "- change `id` to `person_id`\n",
    "- remove null values\n",
    "- change `become_member_on` to datetime\n",
    "- create `member_duration_days` based on the latest date (maximum date) because the dataset is not up to date\n",
    "- reorder columns"
   ]
  },
  {
   "cell_type": "code",
   "execution_count": 42,
   "metadata": {},
   "outputs": [],
   "source": [
    "profile_mod = profile.copy()"
   ]
  },
  {
   "cell_type": "code",
   "execution_count": 43,
   "metadata": {},
   "outputs": [],
   "source": [
    "profile_mod.rename(columns={'id': 'person_id'}, inplace=True)"
   ]
  },
  {
   "cell_type": "code",
   "execution_count": 44,
   "metadata": {},
   "outputs": [],
   "source": [
    "profile_mod.dropna(inplace=True)"
   ]
  },
  {
   "cell_type": "code",
   "execution_count": 45,
   "metadata": {},
   "outputs": [],
   "source": [
    "profile_mod['became_member_on'] = pd.to_datetime(profile_mod['became_member_on'], format='%Y%m%d')"
   ]
  },
  {
   "cell_type": "code",
   "execution_count": 46,
   "metadata": {},
   "outputs": [],
   "source": [
    "from datetime import datetime\n",
    "\n",
    "max_date = profile_mod['became_member_on'].max()\n",
    "\n",
    "# Calculate the total membership duration in days\n",
    "membership_duration = (max_date - profile_mod['became_member_on'])\n",
    "\n",
    "# Create a new column for member_duration_days\n",
    "profile_mod['member_duration_days'] = membership_duration.dt.days"
   ]
  },
  {
   "cell_type": "code",
   "execution_count": 47,
   "metadata": {},
   "outputs": [
    {
     "data": {
      "text/plain": [
       "Index(['gender', 'age', 'person_id', 'became_member_on', 'income',\n",
       "       'member_duration_days'],\n",
       "      dtype='object')"
      ]
     },
     "execution_count": 47,
     "metadata": {},
     "output_type": "execute_result"
    }
   ],
   "source": [
    "profile_mod.columns"
   ]
  },
  {
   "cell_type": "code",
   "execution_count": 48,
   "metadata": {},
   "outputs": [],
   "source": [
    "profile_mod = profile_mod[['person_id', 'gender', 'age', 'became_member_on', 'income', 'member_duration_days']]"
   ]
  },
  {
   "cell_type": "code",
   "execution_count": 49,
   "metadata": {},
   "outputs": [
    {
     "data": {
      "text/html": [
       "<div>\n",
       "<style scoped>\n",
       "    .dataframe tbody tr th:only-of-type {\n",
       "        vertical-align: middle;\n",
       "    }\n",
       "\n",
       "    .dataframe tbody tr th {\n",
       "        vertical-align: top;\n",
       "    }\n",
       "\n",
       "    .dataframe thead th {\n",
       "        text-align: right;\n",
       "    }\n",
       "</style>\n",
       "<table border=\"1\" class=\"dataframe\">\n",
       "  <thead>\n",
       "    <tr style=\"text-align: right;\">\n",
       "      <th></th>\n",
       "      <th>person_id</th>\n",
       "      <th>gender</th>\n",
       "      <th>age</th>\n",
       "      <th>became_member_on</th>\n",
       "      <th>income</th>\n",
       "      <th>member_duration_days</th>\n",
       "    </tr>\n",
       "  </thead>\n",
       "  <tbody>\n",
       "    <tr>\n",
       "      <th>1</th>\n",
       "      <td>0610b486422d4921ae7d2bf64640c50b</td>\n",
       "      <td>F</td>\n",
       "      <td>55</td>\n",
       "      <td>2017-07-15</td>\n",
       "      <td>112000.0</td>\n",
       "      <td>376</td>\n",
       "    </tr>\n",
       "    <tr>\n",
       "      <th>3</th>\n",
       "      <td>78afa995795e4d85b5d9ceeca43f5fef</td>\n",
       "      <td>F</td>\n",
       "      <td>75</td>\n",
       "      <td>2017-05-09</td>\n",
       "      <td>100000.0</td>\n",
       "      <td>443</td>\n",
       "    </tr>\n",
       "    <tr>\n",
       "      <th>5</th>\n",
       "      <td>e2127556f4f64592b11af22de27a7932</td>\n",
       "      <td>M</td>\n",
       "      <td>68</td>\n",
       "      <td>2018-04-26</td>\n",
       "      <td>70000.0</td>\n",
       "      <td>91</td>\n",
       "    </tr>\n",
       "    <tr>\n",
       "      <th>8</th>\n",
       "      <td>389bc3fa690240e798340f5a15918d5c</td>\n",
       "      <td>M</td>\n",
       "      <td>65</td>\n",
       "      <td>2018-02-09</td>\n",
       "      <td>53000.0</td>\n",
       "      <td>167</td>\n",
       "    </tr>\n",
       "    <tr>\n",
       "      <th>12</th>\n",
       "      <td>2eeac8d8feae4a8cad5a6af0499a211d</td>\n",
       "      <td>M</td>\n",
       "      <td>58</td>\n",
       "      <td>2017-11-11</td>\n",
       "      <td>51000.0</td>\n",
       "      <td>257</td>\n",
       "    </tr>\n",
       "  </tbody>\n",
       "</table>\n",
       "</div>"
      ],
      "text/plain": [
       "                           person_id gender  age became_member_on    income  \\\n",
       "1   0610b486422d4921ae7d2bf64640c50b      F   55       2017-07-15  112000.0   \n",
       "3   78afa995795e4d85b5d9ceeca43f5fef      F   75       2017-05-09  100000.0   \n",
       "5   e2127556f4f64592b11af22de27a7932      M   68       2018-04-26   70000.0   \n",
       "8   389bc3fa690240e798340f5a15918d5c      M   65       2018-02-09   53000.0   \n",
       "12  2eeac8d8feae4a8cad5a6af0499a211d      M   58       2017-11-11   51000.0   \n",
       "\n",
       "    member_duration_days  \n",
       "1                    376  \n",
       "3                    443  \n",
       "5                     91  \n",
       "8                    167  \n",
       "12                   257  "
      ]
     },
     "execution_count": 49,
     "metadata": {},
     "output_type": "execute_result"
    }
   ],
   "source": [
    "profile_mod.head()"
   ]
  },
  {
   "cell_type": "markdown",
   "metadata": {},
   "source": [
    "## Transcript Dataset"
   ]
  },
  {
   "cell_type": "code",
   "execution_count": 50,
   "metadata": {},
   "outputs": [
    {
     "data": {
      "text/html": [
       "<div>\n",
       "<style scoped>\n",
       "    .dataframe tbody tr th:only-of-type {\n",
       "        vertical-align: middle;\n",
       "    }\n",
       "\n",
       "    .dataframe tbody tr th {\n",
       "        vertical-align: top;\n",
       "    }\n",
       "\n",
       "    .dataframe thead th {\n",
       "        text-align: right;\n",
       "    }\n",
       "</style>\n",
       "<table border=\"1\" class=\"dataframe\">\n",
       "  <thead>\n",
       "    <tr style=\"text-align: right;\">\n",
       "      <th></th>\n",
       "      <th>person</th>\n",
       "      <th>event</th>\n",
       "      <th>value</th>\n",
       "      <th>time</th>\n",
       "    </tr>\n",
       "  </thead>\n",
       "  <tbody>\n",
       "    <tr>\n",
       "      <th>0</th>\n",
       "      <td>78afa995795e4d85b5d9ceeca43f5fef</td>\n",
       "      <td>offer received</td>\n",
       "      <td>{'offer id': '9b98b8c7a33c4b65b9aebfe6a799e6d9'}</td>\n",
       "      <td>0</td>\n",
       "    </tr>\n",
       "    <tr>\n",
       "      <th>1</th>\n",
       "      <td>a03223e636434f42ac4c3df47e8bac43</td>\n",
       "      <td>offer received</td>\n",
       "      <td>{'offer id': '0b1e1539f2cc45b7b9fa7c272da2e1d7'}</td>\n",
       "      <td>0</td>\n",
       "    </tr>\n",
       "    <tr>\n",
       "      <th>2</th>\n",
       "      <td>e2127556f4f64592b11af22de27a7932</td>\n",
       "      <td>offer received</td>\n",
       "      <td>{'offer id': '2906b810c7d4411798c6938adc9daaa5'}</td>\n",
       "      <td>0</td>\n",
       "    </tr>\n",
       "    <tr>\n",
       "      <th>3</th>\n",
       "      <td>8ec6ce2a7e7949b1bf142def7d0e0586</td>\n",
       "      <td>offer received</td>\n",
       "      <td>{'offer id': 'fafdcd668e3743c1bb461111dcafc2a4'}</td>\n",
       "      <td>0</td>\n",
       "    </tr>\n",
       "    <tr>\n",
       "      <th>4</th>\n",
       "      <td>68617ca6246f4fbc85e91a2a49552598</td>\n",
       "      <td>offer received</td>\n",
       "      <td>{'offer id': '4d5c57ea9a6940dd891ad53e9dbe8da0'}</td>\n",
       "      <td>0</td>\n",
       "    </tr>\n",
       "  </tbody>\n",
       "</table>\n",
       "</div>"
      ],
      "text/plain": [
       "                             person           event  \\\n",
       "0  78afa995795e4d85b5d9ceeca43f5fef  offer received   \n",
       "1  a03223e636434f42ac4c3df47e8bac43  offer received   \n",
       "2  e2127556f4f64592b11af22de27a7932  offer received   \n",
       "3  8ec6ce2a7e7949b1bf142def7d0e0586  offer received   \n",
       "4  68617ca6246f4fbc85e91a2a49552598  offer received   \n",
       "\n",
       "                                              value  time  \n",
       "0  {'offer id': '9b98b8c7a33c4b65b9aebfe6a799e6d9'}     0  \n",
       "1  {'offer id': '0b1e1539f2cc45b7b9fa7c272da2e1d7'}     0  \n",
       "2  {'offer id': '2906b810c7d4411798c6938adc9daaa5'}     0  \n",
       "3  {'offer id': 'fafdcd668e3743c1bb461111dcafc2a4'}     0  \n",
       "4  {'offer id': '4d5c57ea9a6940dd891ad53e9dbe8da0'}     0  "
      ]
     },
     "execution_count": 50,
     "metadata": {},
     "output_type": "execute_result"
    }
   ],
   "source": [
    "transcript.head()"
   ]
  },
  {
   "cell_type": "code",
   "execution_count": 51,
   "metadata": {},
   "outputs": [
    {
     "data": {
      "text/html": [
       "<div>\n",
       "<style scoped>\n",
       "    .dataframe tbody tr th:only-of-type {\n",
       "        vertical-align: middle;\n",
       "    }\n",
       "\n",
       "    .dataframe tbody tr th {\n",
       "        vertical-align: top;\n",
       "    }\n",
       "\n",
       "    .dataframe thead th {\n",
       "        text-align: right;\n",
       "    }\n",
       "</style>\n",
       "<table border=\"1\" class=\"dataframe\">\n",
       "  <thead>\n",
       "    <tr style=\"text-align: right;\">\n",
       "      <th></th>\n",
       "      <th>person</th>\n",
       "      <th>event</th>\n",
       "      <th>value</th>\n",
       "      <th>time</th>\n",
       "    </tr>\n",
       "  </thead>\n",
       "  <tbody>\n",
       "    <tr>\n",
       "      <th>306529</th>\n",
       "      <td>b3a1272bc9904337b331bf348c3e8c17</td>\n",
       "      <td>transaction</td>\n",
       "      <td>{'amount': 1.5899999999999999}</td>\n",
       "      <td>714</td>\n",
       "    </tr>\n",
       "    <tr>\n",
       "      <th>306530</th>\n",
       "      <td>68213b08d99a4ae1b0dcb72aebd9aa35</td>\n",
       "      <td>transaction</td>\n",
       "      <td>{'amount': 9.53}</td>\n",
       "      <td>714</td>\n",
       "    </tr>\n",
       "    <tr>\n",
       "      <th>306531</th>\n",
       "      <td>a00058cf10334a308c68e7631c529907</td>\n",
       "      <td>transaction</td>\n",
       "      <td>{'amount': 3.61}</td>\n",
       "      <td>714</td>\n",
       "    </tr>\n",
       "    <tr>\n",
       "      <th>306532</th>\n",
       "      <td>76ddbd6576844afe811f1a3c0fbb5bec</td>\n",
       "      <td>transaction</td>\n",
       "      <td>{'amount': 3.5300000000000002}</td>\n",
       "      <td>714</td>\n",
       "    </tr>\n",
       "    <tr>\n",
       "      <th>306533</th>\n",
       "      <td>c02b10e8752c4d8e9b73f918558531f7</td>\n",
       "      <td>transaction</td>\n",
       "      <td>{'amount': 4.05}</td>\n",
       "      <td>714</td>\n",
       "    </tr>\n",
       "  </tbody>\n",
       "</table>\n",
       "</div>"
      ],
      "text/plain": [
       "                                  person        event  \\\n",
       "306529  b3a1272bc9904337b331bf348c3e8c17  transaction   \n",
       "306530  68213b08d99a4ae1b0dcb72aebd9aa35  transaction   \n",
       "306531  a00058cf10334a308c68e7631c529907  transaction   \n",
       "306532  76ddbd6576844afe811f1a3c0fbb5bec  transaction   \n",
       "306533  c02b10e8752c4d8e9b73f918558531f7  transaction   \n",
       "\n",
       "                                 value  time  \n",
       "306529  {'amount': 1.5899999999999999}   714  \n",
       "306530                {'amount': 9.53}   714  \n",
       "306531                {'amount': 3.61}   714  \n",
       "306532  {'amount': 3.5300000000000002}   714  \n",
       "306533                {'amount': 4.05}   714  "
      ]
     },
     "execution_count": 51,
     "metadata": {},
     "output_type": "execute_result"
    }
   ],
   "source": [
    "transcript.tail()"
   ]
  },
  {
   "cell_type": "code",
   "execution_count": 52,
   "metadata": {},
   "outputs": [
    {
     "name": "stdout",
     "output_type": "stream",
     "text": [
      "<class 'pandas.core.frame.DataFrame'>\n",
      "RangeIndex: 306534 entries, 0 to 306533\n",
      "Data columns (total 4 columns):\n",
      " #   Column  Non-Null Count   Dtype \n",
      "---  ------  --------------   ----- \n",
      " 0   person  306534 non-null  object\n",
      " 1   event   306534 non-null  object\n",
      " 2   value   306534 non-null  object\n",
      " 3   time    306534 non-null  int64 \n",
      "dtypes: int64(1), object(3)\n",
      "memory usage: 9.4+ MB\n"
     ]
    }
   ],
   "source": [
    "transcript.info()"
   ]
  },
  {
   "cell_type": "code",
   "execution_count": 53,
   "metadata": {},
   "outputs": [
    {
     "data": {
      "text/plain": [
       "person    0\n",
       "event     0\n",
       "value     0\n",
       "time      0\n",
       "dtype: int64"
      ]
     },
     "execution_count": 53,
     "metadata": {},
     "output_type": "execute_result"
    }
   ],
   "source": [
    "transcript.isna().sum()"
   ]
  },
  {
   "cell_type": "code",
   "execution_count": 54,
   "metadata": {},
   "outputs": [
    {
     "data": {
      "text/plain": [
       "transaction        138953\n",
       "offer received      76277\n",
       "offer viewed        57725\n",
       "offer completed     33579\n",
       "Name: event, dtype: int64"
      ]
     },
     "execution_count": 54,
     "metadata": {},
     "output_type": "execute_result"
    }
   ],
   "source": [
    "transcript.event.value_counts()"
   ]
  },
  {
   "cell_type": "code",
   "execution_count": 55,
   "metadata": {},
   "outputs": [
    {
     "data": {
      "text/html": [
       "<div>\n",
       "<style scoped>\n",
       "    .dataframe tbody tr th:only-of-type {\n",
       "        vertical-align: middle;\n",
       "    }\n",
       "\n",
       "    .dataframe tbody tr th {\n",
       "        vertical-align: top;\n",
       "    }\n",
       "\n",
       "    .dataframe thead th {\n",
       "        text-align: right;\n",
       "    }\n",
       "</style>\n",
       "<table border=\"1\" class=\"dataframe\">\n",
       "  <thead>\n",
       "    <tr style=\"text-align: right;\">\n",
       "      <th></th>\n",
       "      <th>person</th>\n",
       "      <th>event</th>\n",
       "      <th>value</th>\n",
       "      <th>time</th>\n",
       "    </tr>\n",
       "  </thead>\n",
       "  <tbody>\n",
       "    <tr>\n",
       "      <th>0</th>\n",
       "      <td>78afa995795e4d85b5d9ceeca43f5fef</td>\n",
       "      <td>offer received</td>\n",
       "      <td>{'offer id': '9b98b8c7a33c4b65b9aebfe6a799e6d9'}</td>\n",
       "      <td>0</td>\n",
       "    </tr>\n",
       "    <tr>\n",
       "      <th>1</th>\n",
       "      <td>a03223e636434f42ac4c3df47e8bac43</td>\n",
       "      <td>offer received</td>\n",
       "      <td>{'offer id': '0b1e1539f2cc45b7b9fa7c272da2e1d7'}</td>\n",
       "      <td>0</td>\n",
       "    </tr>\n",
       "    <tr>\n",
       "      <th>2</th>\n",
       "      <td>e2127556f4f64592b11af22de27a7932</td>\n",
       "      <td>offer received</td>\n",
       "      <td>{'offer id': '2906b810c7d4411798c6938adc9daaa5'}</td>\n",
       "      <td>0</td>\n",
       "    </tr>\n",
       "    <tr>\n",
       "      <th>3</th>\n",
       "      <td>8ec6ce2a7e7949b1bf142def7d0e0586</td>\n",
       "      <td>offer received</td>\n",
       "      <td>{'offer id': 'fafdcd668e3743c1bb461111dcafc2a4'}</td>\n",
       "      <td>0</td>\n",
       "    </tr>\n",
       "    <tr>\n",
       "      <th>4</th>\n",
       "      <td>68617ca6246f4fbc85e91a2a49552598</td>\n",
       "      <td>offer received</td>\n",
       "      <td>{'offer id': '4d5c57ea9a6940dd891ad53e9dbe8da0'}</td>\n",
       "      <td>0</td>\n",
       "    </tr>\n",
       "  </tbody>\n",
       "</table>\n",
       "</div>"
      ],
      "text/plain": [
       "                             person           event  \\\n",
       "0  78afa995795e4d85b5d9ceeca43f5fef  offer received   \n",
       "1  a03223e636434f42ac4c3df47e8bac43  offer received   \n",
       "2  e2127556f4f64592b11af22de27a7932  offer received   \n",
       "3  8ec6ce2a7e7949b1bf142def7d0e0586  offer received   \n",
       "4  68617ca6246f4fbc85e91a2a49552598  offer received   \n",
       "\n",
       "                                              value  time  \n",
       "0  {'offer id': '9b98b8c7a33c4b65b9aebfe6a799e6d9'}     0  \n",
       "1  {'offer id': '0b1e1539f2cc45b7b9fa7c272da2e1d7'}     0  \n",
       "2  {'offer id': '2906b810c7d4411798c6938adc9daaa5'}     0  \n",
       "3  {'offer id': 'fafdcd668e3743c1bb461111dcafc2a4'}     0  \n",
       "4  {'offer id': '4d5c57ea9a6940dd891ad53e9dbe8da0'}     0  "
      ]
     },
     "execution_count": 55,
     "metadata": {},
     "output_type": "execute_result"
    }
   ],
   "source": [
    "transcript[transcript.event == 'offer received'].head()"
   ]
  },
  {
   "cell_type": "code",
   "execution_count": 56,
   "metadata": {},
   "outputs": [
    {
     "data": {
      "text/html": [
       "<div>\n",
       "<style scoped>\n",
       "    .dataframe tbody tr th:only-of-type {\n",
       "        vertical-align: middle;\n",
       "    }\n",
       "\n",
       "    .dataframe tbody tr th {\n",
       "        vertical-align: top;\n",
       "    }\n",
       "\n",
       "    .dataframe thead th {\n",
       "        text-align: right;\n",
       "    }\n",
       "</style>\n",
       "<table border=\"1\" class=\"dataframe\">\n",
       "  <thead>\n",
       "    <tr style=\"text-align: right;\">\n",
       "      <th></th>\n",
       "      <th>person</th>\n",
       "      <th>event</th>\n",
       "      <th>value</th>\n",
       "      <th>time</th>\n",
       "    </tr>\n",
       "  </thead>\n",
       "  <tbody>\n",
       "    <tr>\n",
       "      <th>12650</th>\n",
       "      <td>389bc3fa690240e798340f5a15918d5c</td>\n",
       "      <td>offer viewed</td>\n",
       "      <td>{'offer id': 'f19421c1d4aa40978ebb69ca19b0e20d'}</td>\n",
       "      <td>0</td>\n",
       "    </tr>\n",
       "    <tr>\n",
       "      <th>12651</th>\n",
       "      <td>d1ede868e29245ea91818a903fec04c6</td>\n",
       "      <td>offer viewed</td>\n",
       "      <td>{'offer id': '5a8bc65990b245e5a138643cd4eb9837'}</td>\n",
       "      <td>0</td>\n",
       "    </tr>\n",
       "    <tr>\n",
       "      <th>12652</th>\n",
       "      <td>102e9454054946fda62242d2e176fdce</td>\n",
       "      <td>offer viewed</td>\n",
       "      <td>{'offer id': '4d5c57ea9a6940dd891ad53e9dbe8da0'}</td>\n",
       "      <td>0</td>\n",
       "    </tr>\n",
       "    <tr>\n",
       "      <th>12653</th>\n",
       "      <td>02c083884c7d45b39cc68e1314fec56c</td>\n",
       "      <td>offer viewed</td>\n",
       "      <td>{'offer id': 'ae264e3637204a6fb9bb56bc8210ddfd'}</td>\n",
       "      <td>0</td>\n",
       "    </tr>\n",
       "    <tr>\n",
       "      <th>12655</th>\n",
       "      <td>be8a5d1981a2458d90b255ddc7e0d174</td>\n",
       "      <td>offer viewed</td>\n",
       "      <td>{'offer id': '5a8bc65990b245e5a138643cd4eb9837'}</td>\n",
       "      <td>0</td>\n",
       "    </tr>\n",
       "  </tbody>\n",
       "</table>\n",
       "</div>"
      ],
      "text/plain": [
       "                                 person         event  \\\n",
       "12650  389bc3fa690240e798340f5a15918d5c  offer viewed   \n",
       "12651  d1ede868e29245ea91818a903fec04c6  offer viewed   \n",
       "12652  102e9454054946fda62242d2e176fdce  offer viewed   \n",
       "12653  02c083884c7d45b39cc68e1314fec56c  offer viewed   \n",
       "12655  be8a5d1981a2458d90b255ddc7e0d174  offer viewed   \n",
       "\n",
       "                                                  value  time  \n",
       "12650  {'offer id': 'f19421c1d4aa40978ebb69ca19b0e20d'}     0  \n",
       "12651  {'offer id': '5a8bc65990b245e5a138643cd4eb9837'}     0  \n",
       "12652  {'offer id': '4d5c57ea9a6940dd891ad53e9dbe8da0'}     0  \n",
       "12653  {'offer id': 'ae264e3637204a6fb9bb56bc8210ddfd'}     0  \n",
       "12655  {'offer id': '5a8bc65990b245e5a138643cd4eb9837'}     0  "
      ]
     },
     "execution_count": 56,
     "metadata": {},
     "output_type": "execute_result"
    }
   ],
   "source": [
    "transcript[transcript.event == 'offer viewed'].head()"
   ]
  },
  {
   "cell_type": "code",
   "execution_count": 57,
   "metadata": {},
   "outputs": [
    {
     "data": {
      "text/html": [
       "<div>\n",
       "<style scoped>\n",
       "    .dataframe tbody tr th:only-of-type {\n",
       "        vertical-align: middle;\n",
       "    }\n",
       "\n",
       "    .dataframe tbody tr th {\n",
       "        vertical-align: top;\n",
       "    }\n",
       "\n",
       "    .dataframe thead th {\n",
       "        text-align: right;\n",
       "    }\n",
       "</style>\n",
       "<table border=\"1\" class=\"dataframe\">\n",
       "  <thead>\n",
       "    <tr style=\"text-align: right;\">\n",
       "      <th></th>\n",
       "      <th>person</th>\n",
       "      <th>event</th>\n",
       "      <th>value</th>\n",
       "      <th>time</th>\n",
       "    </tr>\n",
       "  </thead>\n",
       "  <tbody>\n",
       "    <tr>\n",
       "      <th>12658</th>\n",
       "      <td>9fa9ae8f57894cc9a3b8a9bbe0fc1b2f</td>\n",
       "      <td>offer completed</td>\n",
       "      <td>{'offer_id': '2906b810c7d4411798c6938adc9daaa5...</td>\n",
       "      <td>0</td>\n",
       "    </tr>\n",
       "    <tr>\n",
       "      <th>12672</th>\n",
       "      <td>fe97aa22dd3e48c8b143116a8403dd52</td>\n",
       "      <td>offer completed</td>\n",
       "      <td>{'offer_id': 'fafdcd668e3743c1bb461111dcafc2a4...</td>\n",
       "      <td>0</td>\n",
       "    </tr>\n",
       "    <tr>\n",
       "      <th>12679</th>\n",
       "      <td>629fc02d56414d91bca360decdfa9288</td>\n",
       "      <td>offer completed</td>\n",
       "      <td>{'offer_id': '9b98b8c7a33c4b65b9aebfe6a799e6d9...</td>\n",
       "      <td>0</td>\n",
       "    </tr>\n",
       "    <tr>\n",
       "      <th>12692</th>\n",
       "      <td>676506bad68e4161b9bbaffeb039626b</td>\n",
       "      <td>offer completed</td>\n",
       "      <td>{'offer_id': 'ae264e3637204a6fb9bb56bc8210ddfd...</td>\n",
       "      <td>0</td>\n",
       "    </tr>\n",
       "    <tr>\n",
       "      <th>12697</th>\n",
       "      <td>8f7dd3b2afe14c078eb4f6e6fe4ba97d</td>\n",
       "      <td>offer completed</td>\n",
       "      <td>{'offer_id': '4d5c57ea9a6940dd891ad53e9dbe8da0...</td>\n",
       "      <td>0</td>\n",
       "    </tr>\n",
       "  </tbody>\n",
       "</table>\n",
       "</div>"
      ],
      "text/plain": [
       "                                 person            event  \\\n",
       "12658  9fa9ae8f57894cc9a3b8a9bbe0fc1b2f  offer completed   \n",
       "12672  fe97aa22dd3e48c8b143116a8403dd52  offer completed   \n",
       "12679  629fc02d56414d91bca360decdfa9288  offer completed   \n",
       "12692  676506bad68e4161b9bbaffeb039626b  offer completed   \n",
       "12697  8f7dd3b2afe14c078eb4f6e6fe4ba97d  offer completed   \n",
       "\n",
       "                                                   value  time  \n",
       "12658  {'offer_id': '2906b810c7d4411798c6938adc9daaa5...     0  \n",
       "12672  {'offer_id': 'fafdcd668e3743c1bb461111dcafc2a4...     0  \n",
       "12679  {'offer_id': '9b98b8c7a33c4b65b9aebfe6a799e6d9...     0  \n",
       "12692  {'offer_id': 'ae264e3637204a6fb9bb56bc8210ddfd...     0  \n",
       "12697  {'offer_id': '4d5c57ea9a6940dd891ad53e9dbe8da0...     0  "
      ]
     },
     "execution_count": 57,
     "metadata": {},
     "output_type": "execute_result"
    }
   ],
   "source": [
    "transcript[transcript.event == 'offer completed'].head()"
   ]
  },
  {
   "cell_type": "markdown",
   "metadata": {},
   "source": [
    "**insights**:\n",
    "- `value` written in the dictionary format\n",
    "- there're no null values\n",
    "- there're 4 kinds of event\n",
    "    - transaction: a customer made a purchase, regardless of whether an offer was involved\n",
    "    - offer received: a customer received an offera customer received an offer\n",
    "    - offer viewed: a customer viewed an offer that was previously received\n",
    "    - offer completed: a customer completed an offer after viewing it\n",
    "- most of customer made a transaction"
   ]
  },
  {
   "cell_type": "markdown",
   "metadata": {},
   "source": [
    "**to-do**:\n",
    "- change `person` to `person_id`\n",
    "- extract `offer id` and `amount` from `value` column\n",
    "- remove `value` column"
   ]
  },
  {
   "cell_type": "code",
   "execution_count": 58,
   "metadata": {},
   "outputs": [],
   "source": [
    "transcript_mod = transcript.copy()"
   ]
  },
  {
   "cell_type": "code",
   "execution_count": 59,
   "metadata": {},
   "outputs": [],
   "source": [
    "transcript_mod.rename(columns={'person': 'person_id'}, inplace=True)"
   ]
  },
  {
   "cell_type": "code",
   "execution_count": 60,
   "metadata": {},
   "outputs": [],
   "source": [
    "transcript_mod['offer_id'] = transcript_mod['value'].apply(lambda x: x['offer id'] if list(x.keys())[0] == 'offer id' else x['offer_id'] if list(x.keys())[0] == 'offer_id' else 0)"
   ]
  },
  {
   "cell_type": "code",
   "execution_count": 61,
   "metadata": {},
   "outputs": [],
   "source": [
    "transcript_mod['amount_spent'] = transcript_mod['value'].apply(lambda x: x['amount'] if list(x.keys())[0] == 'amount' else 0)"
   ]
  },
  {
   "cell_type": "code",
   "execution_count": 62,
   "metadata": {},
   "outputs": [],
   "source": [
    "transcript_mod.drop(columns=['value'], inplace=True)"
   ]
  },
  {
   "cell_type": "code",
   "execution_count": 63,
   "metadata": {},
   "outputs": [
    {
     "data": {
      "text/html": [
       "<div>\n",
       "<style scoped>\n",
       "    .dataframe tbody tr th:only-of-type {\n",
       "        vertical-align: middle;\n",
       "    }\n",
       "\n",
       "    .dataframe tbody tr th {\n",
       "        vertical-align: top;\n",
       "    }\n",
       "\n",
       "    .dataframe thead th {\n",
       "        text-align: right;\n",
       "    }\n",
       "</style>\n",
       "<table border=\"1\" class=\"dataframe\">\n",
       "  <thead>\n",
       "    <tr style=\"text-align: right;\">\n",
       "      <th></th>\n",
       "      <th>person_id</th>\n",
       "      <th>event</th>\n",
       "      <th>time</th>\n",
       "      <th>offer_id</th>\n",
       "      <th>amount_spent</th>\n",
       "    </tr>\n",
       "  </thead>\n",
       "  <tbody>\n",
       "    <tr>\n",
       "      <th>0</th>\n",
       "      <td>78afa995795e4d85b5d9ceeca43f5fef</td>\n",
       "      <td>offer received</td>\n",
       "      <td>0</td>\n",
       "      <td>9b98b8c7a33c4b65b9aebfe6a799e6d9</td>\n",
       "      <td>0.0</td>\n",
       "    </tr>\n",
       "    <tr>\n",
       "      <th>1</th>\n",
       "      <td>a03223e636434f42ac4c3df47e8bac43</td>\n",
       "      <td>offer received</td>\n",
       "      <td>0</td>\n",
       "      <td>0b1e1539f2cc45b7b9fa7c272da2e1d7</td>\n",
       "      <td>0.0</td>\n",
       "    </tr>\n",
       "    <tr>\n",
       "      <th>2</th>\n",
       "      <td>e2127556f4f64592b11af22de27a7932</td>\n",
       "      <td>offer received</td>\n",
       "      <td>0</td>\n",
       "      <td>2906b810c7d4411798c6938adc9daaa5</td>\n",
       "      <td>0.0</td>\n",
       "    </tr>\n",
       "    <tr>\n",
       "      <th>3</th>\n",
       "      <td>8ec6ce2a7e7949b1bf142def7d0e0586</td>\n",
       "      <td>offer received</td>\n",
       "      <td>0</td>\n",
       "      <td>fafdcd668e3743c1bb461111dcafc2a4</td>\n",
       "      <td>0.0</td>\n",
       "    </tr>\n",
       "    <tr>\n",
       "      <th>4</th>\n",
       "      <td>68617ca6246f4fbc85e91a2a49552598</td>\n",
       "      <td>offer received</td>\n",
       "      <td>0</td>\n",
       "      <td>4d5c57ea9a6940dd891ad53e9dbe8da0</td>\n",
       "      <td>0.0</td>\n",
       "    </tr>\n",
       "  </tbody>\n",
       "</table>\n",
       "</div>"
      ],
      "text/plain": [
       "                          person_id           event  time  \\\n",
       "0  78afa995795e4d85b5d9ceeca43f5fef  offer received     0   \n",
       "1  a03223e636434f42ac4c3df47e8bac43  offer received     0   \n",
       "2  e2127556f4f64592b11af22de27a7932  offer received     0   \n",
       "3  8ec6ce2a7e7949b1bf142def7d0e0586  offer received     0   \n",
       "4  68617ca6246f4fbc85e91a2a49552598  offer received     0   \n",
       "\n",
       "                           offer_id  amount_spent  \n",
       "0  9b98b8c7a33c4b65b9aebfe6a799e6d9           0.0  \n",
       "1  0b1e1539f2cc45b7b9fa7c272da2e1d7           0.0  \n",
       "2  2906b810c7d4411798c6938adc9daaa5           0.0  \n",
       "3  fafdcd668e3743c1bb461111dcafc2a4           0.0  \n",
       "4  4d5c57ea9a6940dd891ad53e9dbe8da0           0.0  "
      ]
     },
     "execution_count": 63,
     "metadata": {},
     "output_type": "execute_result"
    }
   ],
   "source": [
    "transcript_mod.head()"
   ]
  },
  {
   "cell_type": "code",
   "execution_count": 64,
   "metadata": {},
   "outputs": [
    {
     "data": {
      "text/html": [
       "<div>\n",
       "<style scoped>\n",
       "    .dataframe tbody tr th:only-of-type {\n",
       "        vertical-align: middle;\n",
       "    }\n",
       "\n",
       "    .dataframe tbody tr th {\n",
       "        vertical-align: top;\n",
       "    }\n",
       "\n",
       "    .dataframe thead th {\n",
       "        text-align: right;\n",
       "    }\n",
       "</style>\n",
       "<table border=\"1\" class=\"dataframe\">\n",
       "  <thead>\n",
       "    <tr style=\"text-align: right;\">\n",
       "      <th></th>\n",
       "      <th>person_id</th>\n",
       "      <th>event</th>\n",
       "      <th>time</th>\n",
       "      <th>offer_id</th>\n",
       "      <th>amount_spent</th>\n",
       "    </tr>\n",
       "  </thead>\n",
       "  <tbody>\n",
       "    <tr>\n",
       "      <th>306529</th>\n",
       "      <td>b3a1272bc9904337b331bf348c3e8c17</td>\n",
       "      <td>transaction</td>\n",
       "      <td>714</td>\n",
       "      <td>0</td>\n",
       "      <td>1.59</td>\n",
       "    </tr>\n",
       "    <tr>\n",
       "      <th>306530</th>\n",
       "      <td>68213b08d99a4ae1b0dcb72aebd9aa35</td>\n",
       "      <td>transaction</td>\n",
       "      <td>714</td>\n",
       "      <td>0</td>\n",
       "      <td>9.53</td>\n",
       "    </tr>\n",
       "    <tr>\n",
       "      <th>306531</th>\n",
       "      <td>a00058cf10334a308c68e7631c529907</td>\n",
       "      <td>transaction</td>\n",
       "      <td>714</td>\n",
       "      <td>0</td>\n",
       "      <td>3.61</td>\n",
       "    </tr>\n",
       "    <tr>\n",
       "      <th>306532</th>\n",
       "      <td>76ddbd6576844afe811f1a3c0fbb5bec</td>\n",
       "      <td>transaction</td>\n",
       "      <td>714</td>\n",
       "      <td>0</td>\n",
       "      <td>3.53</td>\n",
       "    </tr>\n",
       "    <tr>\n",
       "      <th>306533</th>\n",
       "      <td>c02b10e8752c4d8e9b73f918558531f7</td>\n",
       "      <td>transaction</td>\n",
       "      <td>714</td>\n",
       "      <td>0</td>\n",
       "      <td>4.05</td>\n",
       "    </tr>\n",
       "  </tbody>\n",
       "</table>\n",
       "</div>"
      ],
      "text/plain": [
       "                               person_id        event  time offer_id  \\\n",
       "306529  b3a1272bc9904337b331bf348c3e8c17  transaction   714        0   \n",
       "306530  68213b08d99a4ae1b0dcb72aebd9aa35  transaction   714        0   \n",
       "306531  a00058cf10334a308c68e7631c529907  transaction   714        0   \n",
       "306532  76ddbd6576844afe811f1a3c0fbb5bec  transaction   714        0   \n",
       "306533  c02b10e8752c4d8e9b73f918558531f7  transaction   714        0   \n",
       "\n",
       "        amount_spent  \n",
       "306529          1.59  \n",
       "306530          9.53  \n",
       "306531          3.61  \n",
       "306532          3.53  \n",
       "306533          4.05  "
      ]
     },
     "execution_count": 64,
     "metadata": {},
     "output_type": "execute_result"
    }
   ],
   "source": [
    "transcript_mod.tail()"
   ]
  },
  {
   "cell_type": "code",
   "execution_count": 65,
   "metadata": {},
   "outputs": [
    {
     "data": {
      "text/plain": [
       "([<matplotlib.patches.Wedge at 0x7fa045d86620>,\n",
       "  <matplotlib.patches.Wedge at 0x7fa045d86bc0>,\n",
       "  <matplotlib.patches.Wedge at 0x7fa045d87250>,\n",
       "  <matplotlib.patches.Wedge at 0x7fa045d878e0>],\n",
       " [Text(0.1607925537491071, 1.0881846142354894, 'transaction'),\n",
       "  Text(-0.9714225590847284, -0.5160796563528516, 'offer received'),\n",
       "  Text(0.31549684071996675, -1.0537844862663903, 'offer viewed'),\n",
       "  Text(1.0355014599237367, -0.3711289890264706, 'offer completed')],\n",
       " [Text(0.08770502931769476, 0.5935552441284486, '45.3%'),\n",
       "  Text(-0.5298668504098518, -0.28149799437428263, '24.9%'),\n",
       "  Text(0.17208918584725458, -0.5747915379634855, '18.8%'),\n",
       "  Text(0.56481897814022, -0.20243399401443848, '11.0%')])"
      ]
     },
     "execution_count": 65,
     "metadata": {},
     "output_type": "execute_result"
    },
    {
     "data": {
      "image/png": "[encoded data removed]",
      "text/plain": [
       "<Figure size 640x480 with 1 Axes>"
      ]
     },
     "metadata": {},
     "output_type": "display_data"
    }
   ],
   "source": [
    "event_count = transcript_mod.event.value_counts()\n",
    "plt.pie(event_count, labels=event_count.index, autopct='%1.1f%%')"
   ]
  },
  {
   "cell_type": "markdown",
   "metadata": {
    "tags": []
   },
   "source": [
    "## Merge dataset"
   ]
  },
  {
   "cell_type": "code",
   "execution_count": 66,
   "metadata": {},
   "outputs": [
    {
     "data": {
      "text/plain": [
       "14825"
      ]
     },
     "execution_count": 66,
     "metadata": {},
     "output_type": "execute_result"
    }
   ],
   "source": [
    "len(profile_mod.person_id.unique())"
   ]
  },
  {
   "cell_type": "code",
   "execution_count": 67,
   "metadata": {},
   "outputs": [
    {
     "data": {
      "text/plain": [
       "17000"
      ]
     },
     "execution_count": 67,
     "metadata": {},
     "output_type": "execute_result"
    }
   ],
   "source": [
    "len(transcript_mod.person_id.unique())"
   ]
  },
  {
   "cell_type": "code",
   "execution_count": 68,
   "metadata": {},
   "outputs": [],
   "source": [
    "# merge only person listed in profile.json\n",
    "transcript_profile = transcript_mod.merge(profile_mod, on='person_id')"
   ]
  },
  {
   "cell_type": "code",
   "execution_count": 69,
   "metadata": {},
   "outputs": [],
   "source": [
    "# keep `transaction` while merging\n",
    "full_dataset = transcript_profile.merge(portfolio_mod, on='offer_id', how='left')"
   ]
  },
  {
   "cell_type": "code",
   "execution_count": 70,
   "metadata": {},
   "outputs": [
    {
     "data": {
      "text/html": [
       "<div>\n",
       "<style scoped>\n",
       "    .dataframe tbody tr th:only-of-type {\n",
       "        vertical-align: middle;\n",
       "    }\n",
       "\n",
       "    .dataframe tbody tr th {\n",
       "        vertical-align: top;\n",
       "    }\n",
       "\n",
       "    .dataframe thead th {\n",
       "        text-align: right;\n",
       "    }\n",
       "</style>\n",
       "<table border=\"1\" class=\"dataframe\">\n",
       "  <thead>\n",
       "    <tr style=\"text-align: right;\">\n",
       "      <th></th>\n",
       "      <th>person_id</th>\n",
       "      <th>event</th>\n",
       "      <th>time</th>\n",
       "      <th>offer_id</th>\n",
       "      <th>amount_spent</th>\n",
       "      <th>gender</th>\n",
       "      <th>age</th>\n",
       "      <th>became_member_on</th>\n",
       "      <th>income</th>\n",
       "      <th>member_duration_days</th>\n",
       "      <th>difficulty</th>\n",
       "      <th>duration</th>\n",
       "      <th>reward_per_hour</th>\n",
       "      <th>email</th>\n",
       "      <th>mobile</th>\n",
       "      <th>social</th>\n",
       "      <th>web</th>\n",
       "      <th>bogo</th>\n",
       "      <th>discount</th>\n",
       "      <th>informational</th>\n",
       "    </tr>\n",
       "  </thead>\n",
       "  <tbody>\n",
       "    <tr>\n",
       "      <th>0</th>\n",
       "      <td>78afa995795e4d85b5d9ceeca43f5fef</td>\n",
       "      <td>offer received</td>\n",
       "      <td>0</td>\n",
       "      <td>9b98b8c7a33c4b65b9aebfe6a799e6d9</td>\n",
       "      <td>0.00</td>\n",
       "      <td>F</td>\n",
       "      <td>75</td>\n",
       "      <td>2017-05-09</td>\n",
       "      <td>100000.0</td>\n",
       "      <td>443</td>\n",
       "      <td>5.0</td>\n",
       "      <td>168.0</td>\n",
       "      <td>0.029762</td>\n",
       "      <td>1.0</td>\n",
       "      <td>1.0</td>\n",
       "      <td>0.0</td>\n",
       "      <td>1.0</td>\n",
       "      <td>1.0</td>\n",
       "      <td>0.0</td>\n",
       "      <td>0.0</td>\n",
       "    </tr>\n",
       "    <tr>\n",
       "      <th>1</th>\n",
       "      <td>78afa995795e4d85b5d9ceeca43f5fef</td>\n",
       "      <td>offer viewed</td>\n",
       "      <td>6</td>\n",
       "      <td>9b98b8c7a33c4b65b9aebfe6a799e6d9</td>\n",
       "      <td>0.00</td>\n",
       "      <td>F</td>\n",
       "      <td>75</td>\n",
       "      <td>2017-05-09</td>\n",
       "      <td>100000.0</td>\n",
       "      <td>443</td>\n",
       "      <td>5.0</td>\n",
       "      <td>168.0</td>\n",
       "      <td>0.029762</td>\n",
       "      <td>1.0</td>\n",
       "      <td>1.0</td>\n",
       "      <td>0.0</td>\n",
       "      <td>1.0</td>\n",
       "      <td>1.0</td>\n",
       "      <td>0.0</td>\n",
       "      <td>0.0</td>\n",
       "    </tr>\n",
       "    <tr>\n",
       "      <th>2</th>\n",
       "      <td>78afa995795e4d85b5d9ceeca43f5fef</td>\n",
       "      <td>transaction</td>\n",
       "      <td>132</td>\n",
       "      <td>0</td>\n",
       "      <td>19.89</td>\n",
       "      <td>F</td>\n",
       "      <td>75</td>\n",
       "      <td>2017-05-09</td>\n",
       "      <td>100000.0</td>\n",
       "      <td>443</td>\n",
       "      <td>NaN</td>\n",
       "      <td>NaN</td>\n",
       "      <td>NaN</td>\n",
       "      <td>NaN</td>\n",
       "      <td>NaN</td>\n",
       "      <td>NaN</td>\n",
       "      <td>NaN</td>\n",
       "      <td>NaN</td>\n",
       "      <td>NaN</td>\n",
       "      <td>NaN</td>\n",
       "    </tr>\n",
       "    <tr>\n",
       "      <th>3</th>\n",
       "      <td>78afa995795e4d85b5d9ceeca43f5fef</td>\n",
       "      <td>offer completed</td>\n",
       "      <td>132</td>\n",
       "      <td>9b98b8c7a33c4b65b9aebfe6a799e6d9</td>\n",
       "      <td>0.00</td>\n",
       "      <td>F</td>\n",
       "      <td>75</td>\n",
       "      <td>2017-05-09</td>\n",
       "      <td>100000.0</td>\n",
       "      <td>443</td>\n",
       "      <td>5.0</td>\n",
       "      <td>168.0</td>\n",
       "      <td>0.029762</td>\n",
       "      <td>1.0</td>\n",
       "      <td>1.0</td>\n",
       "      <td>0.0</td>\n",
       "      <td>1.0</td>\n",
       "      <td>1.0</td>\n",
       "      <td>0.0</td>\n",
       "      <td>0.0</td>\n",
       "    </tr>\n",
       "    <tr>\n",
       "      <th>4</th>\n",
       "      <td>78afa995795e4d85b5d9ceeca43f5fef</td>\n",
       "      <td>transaction</td>\n",
       "      <td>144</td>\n",
       "      <td>0</td>\n",
       "      <td>17.78</td>\n",
       "      <td>F</td>\n",
       "      <td>75</td>\n",
       "      <td>2017-05-09</td>\n",
       "      <td>100000.0</td>\n",
       "      <td>443</td>\n",
       "      <td>NaN</td>\n",
       "      <td>NaN</td>\n",
       "      <td>NaN</td>\n",
       "      <td>NaN</td>\n",
       "      <td>NaN</td>\n",
       "      <td>NaN</td>\n",
       "      <td>NaN</td>\n",
       "      <td>NaN</td>\n",
       "      <td>NaN</td>\n",
       "      <td>NaN</td>\n",
       "    </tr>\n",
       "  </tbody>\n",
       "</table>\n",
       "</div>"
      ],
      "text/plain": [
       "                          person_id            event  time  \\\n",
       "0  78afa995795e4d85b5d9ceeca43f5fef   offer received     0   \n",
       "1  78afa995795e4d85b5d9ceeca43f5fef     offer viewed     6   \n",
       "2  78afa995795e4d85b5d9ceeca43f5fef      transaction   132   \n",
       "3  78afa995795e4d85b5d9ceeca43f5fef  offer completed   132   \n",
       "4  78afa995795e4d85b5d9ceeca43f5fef      transaction   144   \n",
       "\n",
       "                           offer_id  amount_spent gender  age  \\\n",
       "0  9b98b8c7a33c4b65b9aebfe6a799e6d9          0.00      F   75   \n",
       "1  9b98b8c7a33c4b65b9aebfe6a799e6d9          0.00      F   75   \n",
       "2                                 0         19.89      F   75   \n",
       "3  9b98b8c7a33c4b65b9aebfe6a799e6d9          0.00      F   75   \n",
       "4                                 0         17.78      F   75   \n",
       "\n",
       "  became_member_on    income  member_duration_days  difficulty  duration  \\\n",
       "0       2017-05-09  100000.0                   443         5.0     168.0   \n",
       "1       2017-05-09  100000.0                   443         5.0     168.0   \n",
       "2       2017-05-09  100000.0                   443         NaN       NaN   \n",
       "3       2017-05-09  100000.0                   443         5.0     168.0   \n",
       "4       2017-05-09  100000.0                   443         NaN       NaN   \n",
       "\n",
       "   reward_per_hour  email  mobile  social  web  bogo  discount  informational  \n",
       "0         0.029762    1.0     1.0     0.0  1.0   1.0       0.0            0.0  \n",
       "1         0.029762    1.0     1.0     0.0  1.0   1.0       0.0            0.0  \n",
       "2              NaN    NaN     NaN     NaN  NaN   NaN       NaN            NaN  \n",
       "3         0.029762    1.0     1.0     0.0  1.0   1.0       0.0            0.0  \n",
       "4              NaN    NaN     NaN     NaN  NaN   NaN       NaN            NaN  "
      ]
     },
     "execution_count": 70,
     "metadata": {},
     "output_type": "execute_result"
    }
   ],
   "source": [
    "full_dataset.head()"
   ]
  },
  {
   "cell_type": "code",
   "execution_count": 71,
   "metadata": {},
   "outputs": [
    {
     "data": {
      "text/plain": [
       "(272762, 20)"
      ]
     },
     "execution_count": 71,
     "metadata": {},
     "output_type": "execute_result"
    }
   ],
   "source": [
    "full_dataset.shape"
   ]
  },
  {
   "cell_type": "code",
   "execution_count": 72,
   "metadata": {},
   "outputs": [
    {
     "data": {
      "text/plain": [
       "person_id                    0\n",
       "event                        0\n",
       "time                         0\n",
       "offer_id                     0\n",
       "amount_spent                 0\n",
       "gender                       0\n",
       "age                          0\n",
       "became_member_on             0\n",
       "income                       0\n",
       "member_duration_days         0\n",
       "difficulty              123957\n",
       "duration                123957\n",
       "reward_per_hour         123957\n",
       "email                   123957\n",
       "mobile                  123957\n",
       "social                  123957\n",
       "web                     123957\n",
       "bogo                    123957\n",
       "discount                123957\n",
       "informational           123957\n",
       "dtype: int64"
      ]
     },
     "execution_count": 72,
     "metadata": {},
     "output_type": "execute_result"
    }
   ],
   "source": [
    "full_dataset.isna().sum()"
   ]
  },
  {
   "cell_type": "code",
   "execution_count": 73,
   "metadata": {
    "tags": []
   },
   "outputs": [],
   "source": [
    "# fill transaction null values with 0\n",
    "full_dataset.fillna(0, inplace=True)"
   ]
  },
  {
   "cell_type": "code",
   "execution_count": 74,
   "metadata": {},
   "outputs": [
    {
     "data": {
      "text/plain": [
       "person_id               0\n",
       "event                   0\n",
       "time                    0\n",
       "offer_id                0\n",
       "amount_spent            0\n",
       "gender                  0\n",
       "age                     0\n",
       "became_member_on        0\n",
       "income                  0\n",
       "member_duration_days    0\n",
       "difficulty              0\n",
       "duration                0\n",
       "reward_per_hour         0\n",
       "email                   0\n",
       "mobile                  0\n",
       "social                  0\n",
       "web                     0\n",
       "bogo                    0\n",
       "discount                0\n",
       "informational           0\n",
       "dtype: int64"
      ]
     },
     "execution_count": 74,
     "metadata": {},
     "output_type": "execute_result"
    }
   ],
   "source": [
    "full_dataset.isna().sum()"
   ]
  },
  {
   "cell_type": "code",
   "execution_count": 75,
   "metadata": {},
   "outputs": [],
   "source": [
    "full_dataset.to_csv('full_dataset.csv', index=False)"
   ]
  },
  {
   "cell_type": "code",
   "execution_count": 102,
   "metadata": {},
   "outputs": [],
   "source": [
    "full_dataset_mod = full_dataset.copy()"
   ]
  },
  {
   "cell_type": "code",
   "execution_count": 103,
   "metadata": {},
   "outputs": [],
   "source": [
    "genders = pd.get_dummies(full_dataset_mod['gender'], prefix='gender_')"
   ]
  },
  {
   "cell_type": "code",
   "execution_count": 104,
   "metadata": {},
   "outputs": [],
   "source": [
    "full_dataset_mod = pd.concat([full_dataset_mod, genders], axis=1).head()"
   ]
  },
  {
   "cell_type": "code",
   "execution_count": 105,
   "metadata": {},
   "outputs": [],
   "source": [
    "full_dataset_mod = full_dataset_mod[(full_dataset_mod.event == 'transaction') | (full_dataset_mod.event == 'offer_completed')]"
   ]
  },
  {
   "cell_type": "code",
   "execution_count": 106,
   "metadata": {},
   "outputs": [],
   "source": [
    "full_dataset_mod['buy_with_offer'] = full_dataset_mod['event'].apply(lambda x: 1 if x == 'offer completed' else 0)"
   ]
  },
  {
   "cell_type": "code",
   "execution_count": 107,
   "metadata": {},
   "outputs": [],
   "source": [
    "full_dataset_mod.drop(columns=['event', 'gender', 'person_id', 'offer_id', 'became_member_on'], inplace=True)"
   ]
  },
  {
   "cell_type": "code",
   "execution_count": 108,
   "metadata": {},
   "outputs": [],
   "source": [
    "full_dataset_mod.columns = full_dataset_mod.columns.str.lower()"
   ]
  },
  {
   "cell_type": "code",
   "execution_count": 109,
   "metadata": {},
   "outputs": [
    {
     "data": {
      "text/html": [
       "<div>\n",
       "<style scoped>\n",
       "    .dataframe tbody tr th:only-of-type {\n",
       "        vertical-align: middle;\n",
       "    }\n",
       "\n",
       "    .dataframe tbody tr th {\n",
       "        vertical-align: top;\n",
       "    }\n",
       "\n",
       "    .dataframe thead th {\n",
       "        text-align: right;\n",
       "    }\n",
       "</style>\n",
       "<table border=\"1\" class=\"dataframe\">\n",
       "  <thead>\n",
       "    <tr style=\"text-align: right;\">\n",
       "      <th></th>\n",
       "      <th>time</th>\n",
       "      <th>amount_spent</th>\n",
       "      <th>age</th>\n",
       "      <th>income</th>\n",
       "      <th>member_duration_days</th>\n",
       "      <th>difficulty</th>\n",
       "      <th>duration</th>\n",
       "      <th>reward_per_hour</th>\n",
       "      <th>email</th>\n",
       "      <th>mobile</th>\n",
       "      <th>social</th>\n",
       "      <th>web</th>\n",
       "      <th>bogo</th>\n",
       "      <th>discount</th>\n",
       "      <th>informational</th>\n",
       "      <th>gender__f</th>\n",
       "      <th>gender__m</th>\n",
       "      <th>gender__o</th>\n",
       "      <th>buy_with_offer</th>\n",
       "    </tr>\n",
       "  </thead>\n",
       "  <tbody>\n",
       "    <tr>\n",
       "      <th>2</th>\n",
       "      <td>132</td>\n",
       "      <td>19.89</td>\n",
       "      <td>75</td>\n",
       "      <td>100000.0</td>\n",
       "      <td>443</td>\n",
       "      <td>0.0</td>\n",
       "      <td>0.0</td>\n",
       "      <td>0.0</td>\n",
       "      <td>0.0</td>\n",
       "      <td>0.0</td>\n",
       "      <td>0.0</td>\n",
       "      <td>0.0</td>\n",
       "      <td>0.0</td>\n",
       "      <td>0.0</td>\n",
       "      <td>0.0</td>\n",
       "      <td>1</td>\n",
       "      <td>0</td>\n",
       "      <td>0</td>\n",
       "      <td>0</td>\n",
       "    </tr>\n",
       "    <tr>\n",
       "      <th>4</th>\n",
       "      <td>144</td>\n",
       "      <td>17.78</td>\n",
       "      <td>75</td>\n",
       "      <td>100000.0</td>\n",
       "      <td>443</td>\n",
       "      <td>0.0</td>\n",
       "      <td>0.0</td>\n",
       "      <td>0.0</td>\n",
       "      <td>0.0</td>\n",
       "      <td>0.0</td>\n",
       "      <td>0.0</td>\n",
       "      <td>0.0</td>\n",
       "      <td>0.0</td>\n",
       "      <td>0.0</td>\n",
       "      <td>0.0</td>\n",
       "      <td>1</td>\n",
       "      <td>0</td>\n",
       "      <td>0</td>\n",
       "      <td>0</td>\n",
       "    </tr>\n",
       "  </tbody>\n",
       "</table>\n",
       "</div>"
      ],
      "text/plain": [
       "   time  amount_spent  age    income  member_duration_days  difficulty  \\\n",
       "2   132         19.89   75  100000.0                   443         0.0   \n",
       "4   144         17.78   75  100000.0                   443         0.0   \n",
       "\n",
       "   duration  reward_per_hour  email  mobile  social  web  bogo  discount  \\\n",
       "2       0.0              0.0    0.0     0.0     0.0  0.0   0.0       0.0   \n",
       "4       0.0              0.0    0.0     0.0     0.0  0.0   0.0       0.0   \n",
       "\n",
       "   informational  gender__f  gender__m  gender__o  buy_with_offer  \n",
       "2            0.0          1          0          0               0  \n",
       "4            0.0          1          0          0               0  "
      ]
     },
     "execution_count": 109,
     "metadata": {},
     "output_type": "execute_result"
    }
   ],
   "source": [
    "full_dataset_mod.head()"
   ]
  },
  {
   "cell_type": "code",
   "execution_count": null,
   "metadata": {},
   "outputs": [],
   "source": [
    "full_dataset.to_csv('full_dataset.csv', index=False)"
   ]
  },
  {
   "cell_type": "markdown",
   "metadata": {},
   "source": [
    "## Full dataset"
   ]
  },
  {
   "cell_type": "code",
   "execution_count": null,
   "metadata": {
    "tags": []
   },
   "outputs": [],
   "source": [
    "full_dataset = pd.read_csv('full_dataset.csv')"
   ]
  },
  {
   "cell_type": "markdown",
   "metadata": {},
   "source": [
    "in this project i will focus on offer completed and transaction"
   ]
  },
  {
   "cell_type": "code",
   "execution_count": null,
   "metadata": {
    "tags": []
   },
   "outputs": [],
   "source": [
    "offer_data = full_dataset.copy()\n",
    "offer_data = offer_data[offer_data.event != 'transaction']"
   ]
  },
  {
   "cell_type": "code",
   "execution_count": null,
   "metadata": {
    "tags": []
   },
   "outputs": [],
   "source": [
    "offer_data.head()"
   ]
  },
  {
   "cell_type": "code",
   "execution_count": null,
   "metadata": {
    "tags": []
   },
   "outputs": [],
   "source": [
    "ax = sns.countplot(x='event', data=offer_data)\n",
    "ax.set_title(\"Numbers of Offer Type\")\n",
    "for p in ax.patches:\n",
    "    ax.annotate(str(p.get_height()), (p.get_x() + 0.2, p.get_height() + 1.5))"
   ]
  },
  {
   "cell_type": "code",
   "execution_count": null,
   "metadata": {
    "tags": []
   },
   "outputs": [],
   "source": [
    "channels_data = offer_data.loc[:, ['email', 'mobile', 'social', 'web']].sum().reset_index().rename(columns={'index': 'channel', 0: 'count'})\n",
    "\n",
    "ax = sns.barplot(x='channel', y='count', data=channels_data)\n",
    "\n",
    "# set the plot title and axis labels\n",
    "plt.title('Count of Offers by Channel')\n",
    "plt.xlabel('Channel')\n",
    "plt.ylabel('Count')\n",
    "\n",
    "for p in ax.patches:\n",
    "    ax.annotate(str(int(p.get_height())), (p.get_x() + 0.2, p.get_height() + 1.5))"
   ]
  },
  {
   "cell_type": "code",
   "execution_count": null,
   "metadata": {
    "tags": []
   },
   "outputs": [],
   "source": [
    "# Create a subplot figure with 3 rows and 2 columns\n",
    "fig, axs = plt.subplots(3, 2, figsize=(10, 12))\n",
    "\n",
    "pallete = sns.set_palette('pastel')\n",
    "\n",
    "# Plot for 'offer received'\n",
    "offer_received = offer_data[offer_data.event == 'offer received'].iloc[:, -3:].sum().reset_index().rename(columns={'index': 'offer_type', 0: 'total'})\n",
    "\n",
    "sns.barplot(x='offer_type', y='total', data=offer_received, ax=axs[0, 0])\n",
    "axs[0, 0].set_title('Total Offer Received')\n",
    "axs[0, 0].set_xlabel('Offer Type')\n",
    "axs[0, 0].set_ylabel('Total')\n",
    "\n",
    "for p in axs[0, 0].patches:\n",
    "    axs[0, 0].annotate(str(int(p.get_height())), (p.get_x() + 0.2, p.get_height() + 1.5))\n",
    "\n",
    "axs[0, 1].pie(offer_received['total'], labels=offer_received['offer_type'], autopct='%1.1f%%', colors=pallete)\n",
    "axs[0, 1].set_title('Offer Received Percentage')\n",
    "\n",
    "# Plot for 'offer viewed'\n",
    "offer_viewed = offer_data[offer_data.event == 'offer viewed'].iloc[:, -3:].sum().reset_index().rename(columns={'index': 'offer_type', 0: 'total'})\n",
    "\n",
    "sns.barplot(x='offer_type', y='total', data=offer_viewed, ax=axs[1, 0])\n",
    "axs[1, 0].set_title('Total Offer Viewed')\n",
    "axs[1, 0].set_xlabel('Offer Type')\n",
    "axs[1, 0].set_ylabel('Total')\n",
    "\n",
    "for p in axs[1, 0].patches:\n",
    "    axs[1, 0].annotate(str(int(p.get_height())), (p.get_x() + 0.2, p.get_height() + 1.5))\n",
    "\n",
    "axs[1, 1].pie(offer_viewed['total'], labels=offer_viewed['offer_type'], autopct='%1.1f%%')\n",
    "axs[1, 1].set_title('Offer Viewed Percentage')\n",
    "\n",
    "# Plot for 'offer completed'\n",
    "offer_completed = offer_data[offer_data.event == 'offer completed'].iloc[:, -3:].sum().reset_index().rename(columns={'index': 'offer_type', 0: 'total'})\n",
    "\n",
    "sns.barplot(x='offer_type', y='total', data=offer_completed, ax=axs[2, 0])\n",
    "axs[2, 0].set_title('Total Offer Completed')\n",
    "axs[2, 0].set_xlabel('Offer Type')\n",
    "axs[2, 0].set_ylabel('Total')\n",
    "\n",
    "for p in axs[2, 0].patches:\n",
    "    axs[2, 0].annotate(str(int(p.get_height())), (p.get_x() + 0.2, p.get_height() + 1.5))\n",
    "    \n",
    "axs[2, 1].pie(offer_completed['total'], labels=offer_completed['offer_type'], autopct='%1.1f%%')\n",
    "axs[2, 1].set_title('Offer Completed Percentage')\n",
    "\n",
    "plt.tight_layout()"
   ]
  },
  {
   "cell_type": "code",
   "execution_count": null,
   "metadata": {
    "tags": []
   },
   "outputs": [],
   "source": [
    "# Filter the data by event type\n",
    "offers_received = offer_data[offer_data['event'] == 'offer received']\n",
    "offers_viewed = offer_data[offer_data['event'] == 'offer viewed']\n",
    "offers_completed = offer_data[offer_data['event'] == 'offer completed']\n",
    "\n",
    "# Set the pastel color palette\n",
    "sns.set_palette('pastel')\n",
    "\n",
    "# Create subplots for offers received\n",
    "fig, axs = plt.subplots(nrows=3, ncols=3, figsize=(16, 12))\n",
    "\n",
    "# Plot for offers received by gender\n",
    "sns.countplot(x='gender', data=offers_received, ax=axs[0, 0])\n",
    "for p in axs[0, 0].patches:\n",
    "    axs[0, 0].annotate(str(int(p.get_height())), (p.get_x() + 0.3, p.get_height() + 1.5))\n",
    "axs[0, 0].set_title('Offers Received by Gender')\n",
    "axs[0, 0].set_xlabel('Gender')\n",
    "axs[0, 0].set_ylabel('Count')\n",
    "\n",
    "# Plot for number of offers received by age group\n",
    "sns.kdeplot(data=offers_received, x='age', hue='gender', fill=True, ax=axs[0, 1])\n",
    "axs[0, 1].set_title('Number of Offers Received by Age')\n",
    "axs[0, 1].set_xlabel('Age')\n",
    "axs[0, 1].set_ylabel('Density')\n",
    "\n",
    "# Plot for number of offers received by income\n",
    "sns.kdeplot(data=offers_received, x='income', hue='gender', fill=True, ax=axs[0, 2])\n",
    "axs[0, 2].set_title('Number of Offers Received by Income')\n",
    "axs[0, 2].set_xlabel('Income')\n",
    "axs[0, 2].set_ylabel('Density')\n",
    "\n",
    "# Plot for offers viewed by gender\n",
    "sns.countplot(x='gender', data=offers_viewed, ax=axs[1, 0])\n",
    "for p in axs[1, 0].patches:\n",
    "    axs[1, 0].annotate(str(int(p.get_height())), (p.get_x() + 0.3, p.get_height() + 1.5))\n",
    "axs[1, 0].set_title('Offers Viewed by Gender')\n",
    "axs[1, 0].set_xlabel('Gender')\n",
    "axs[1, 0].set_ylabel('Count')\n",
    "\n",
    "# Plot for number of offers viewed by age group\n",
    "sns.kdeplot(data=offers_viewed, x='age', hue='gender', fill=True, ax=axs[1, 1])\n",
    "axs[1, 1].set_title('Number of Offers Viewed by Age')\n",
    "axs[1, 1].set_xlabel('Age')\n",
    "axs[1, 1].set_ylabel('Density')\n",
    "\n",
    "# Plot for number of offers viewed by income\n",
    "sns.kdeplot(data=offers_viewed, x='income', hue='gender', fill=True, ax=axs[1, 2])\n",
    "axs[1, 2].set_title('Number of Offers Viewed by Income')\n",
    "axs[1, 2].set_xlabel('Income')\n",
    "axs[1, 2].set_ylabel('Density')\n",
    "\n",
    "\n",
    "# Plot for offers completed by gender\n",
    "sns.countplot(x='gender', data=offers_completed, ax=axs[2, 0])\n",
    "for p in axs[2, 0].patches:\n",
    "    axs[2, 0].annotate(str(int(p.get_height())), (p.get_x() + 0.3, p.get_height() + 1.5))\n",
    "axs[2, 0].set_title('Offers Completed by Gender')\n",
    "axs[2, 0].set_xlabel('Gender')\n",
    "axs[2, 0].set_ylabel('Count')\n",
    "\n",
    "# Plot for number of offers completed by age group\n",
    "sns.kdeplot(data=offers_completed, x='age', hue='gender', fill=True, ax=axs[2, 1])\n",
    "axs[2, 1].set_title('Number of Offers Completed by Age')\n",
    "axs[2, 1].set_xlabel('Age')\n",
    "axs[2, 1].set_ylabel('Density')\n",
    "\n",
    "# Plot for number of offers completed by income\n",
    "sns.kdeplot(data=offers_completed, x='income', hue='gender', fill=True, ax=axs[2, 2])\n",
    "axs[2, 2].set_title('Number of Offers Completed by Income')\n",
    "axs[2, 2].set_xlabel('Income')\n",
    "axs[2, 2].set_ylabel('Density')\n",
    "\n",
    "plt.tight_layout()"
   ]
  },
  {
   "cell_type": "code",
   "execution_count": null,
   "metadata": {
    "tags": []
   },
   "outputs": [],
   "source": [
    "# Create a figure with 3 x 1 subplots\n",
    "fig, axs = plt.subplots(1, 3, figsize=(12, 4))\n",
    "\n",
    "# BOGO offers received by gender\n",
    "bogo_received_gender = offer_data[(offer_data['event'] == 'offer received') & (offer_data['bogo'] == 1)].groupby('gender').size().reset_index(name='count')\n",
    "ax = sns.barplot(x='gender', y='count', data=bogo_received_gender, ax=axs[0])\n",
    "ax.set_title('BOGO Offers Received by Gender')\n",
    "ax.set_xlabel('Gender')\n",
    "ax.set_ylabel('Count')\n",
    "ax.set_ylim(0, 16000)\n",
    "for p in ax.patches:\n",
    "    ax.annotate(str(int(p.get_height())), (p.get_x() + 0.3, p.get_height() + 1))\n",
    "\n",
    "# Discount offers received by gender\n",
    "discount_received_gender = offer_data[(offer_data['event'] == 'offer received') & (offer_data['discount'] == 1)].groupby('gender').size().reset_index(name='count')\n",
    "ax = sns.barplot(x='gender', y='count', data=discount_received_gender, ax=axs[1])\n",
    "ax.set_title('Discount Offers Received by Gender')\n",
    "ax.set_xlabel('Gender')\n",
    "ax.set_ylabel('Count')\n",
    "ax.set_ylim(0, 16000)\n",
    "for p in ax.patches:\n",
    "    ax.annotate(str(int(p.get_height())), (p.get_x() + 0.3, p.get_height() + 1))\n",
    "\n",
    "# Informational offers received by gender\n",
    "info_received_gender = offer_data[(offer_data['event'] == 'offer received') & (offer_data['informational'] == 1)].groupby('gender').size().reset_index(name='count')\n",
    "ax = sns.barplot(x='gender', y='count', data=info_received_gender, ax=axs[2])\n",
    "ax.set_title('Informational Offers Received by Gender')\n",
    "ax.set_xlabel('Gender')\n",
    "ax.set_ylabel('Count')\n",
    "ax.set_ylim(0, 16000)\n",
    "for p in ax.patches:\n",
    "    ax.annotate(str(int(p.get_height())), (p.get_x() + 0.3, p.get_height() + 1))\n",
    "\n",
    "# Set tight layout and show the plot\n",
    "plt.tight_layout()"
   ]
  },
  {
   "cell_type": "code",
   "execution_count": null,
   "metadata": {
    "tags": []
   },
   "outputs": [],
   "source": [
    "# Create a figure with 3 x 1 subplots\n",
    "fig, axs = plt.subplots(1, 3, figsize=(12, 4))\n",
    "\n",
    "# BOGO offers viewed by gender\n",
    "bogo_viewed_gender = offer_data[(offer_data['event'] == 'offer viewed') & (offer_data['bogo'] == 1)].groupby('gender').size().reset_index(name='count')\n",
    "ax = sns.barplot(x='gender', y='count', data=bogo_viewed_gender, ax=axs[0])\n",
    "ax.set_title('BOGO Offers Viewed by Gender')\n",
    "ax.set_xlabel('Gender')\n",
    "ax.set_ylabel('Count')\n",
    "ax.set_ylim(0, 13500)\n",
    "for p in ax.patches:\n",
    "    ax.annotate(str(int(p.get_height())), (p.get_x() + 0.3, p.get_height() + 1))\n",
    "\n",
    "# Discount offers viewed by gender\n",
    "discount_viewed_gender = offer_data[(offer_data['event'] == 'offer viewed') & (offer_data['discount'] == 1)].groupby('gender').size().reset_index(name='count')\n",
    "ax = sns.barplot(x='gender', y='count', data=discount_viewed_gender, ax=axs[1])\n",
    "ax.set_title('Discount Offers Viewed by Gender')\n",
    "ax.set_xlabel('Gender')\n",
    "ax.set_ylabel('Count')\n",
    "ax.set_ylim(0, 13500)\n",
    "for p in ax.patches:\n",
    "    ax.annotate(str(int(p.get_height())), (p.get_x() + 0.3, p.get_height() + 1))\n",
    "\n",
    "# Informational offers viewed by gender\n",
    "info_viewed_gender = offer_data[(offer_data['event'] == 'offer viewed') & (offer_data['informational'] == 1)].groupby('gender').size().reset_index(name='count')\n",
    "ax = sns.barplot(x='gender', y='count', data=info_viewed_gender, ax=axs[2])\n",
    "ax.set_title('Informational Offers Viewed by Gender')\n",
    "ax.set_xlabel('Gender')\n",
    "ax.set_ylabel('Count')\n",
    "ax.set_ylim(0, 13500)\n",
    "for p in ax.patches:\n",
    "    ax.annotate(str(int(p.get_height())), (p.get_x() + 0.3, p.get_height() + 1))\n",
    "\n",
    "# Set tight layout and show the plot\n",
    "plt.tight_layout()\n"
   ]
  },
  {
   "cell_type": "code",
   "execution_count": null,
   "metadata": {
    "tags": []
   },
   "outputs": [],
   "source": [
    "# Create a figure with 3 x 1 subplots\n",
    "fig, axs = plt.subplots(1, 3, figsize=(12, 4))\n",
    "\n",
    "# BOGO offers completed by gender\n",
    "bogo_completed_gender = offer_data[(offer_data['event'] == 'offer completed') & (offer_data['bogo'] == 1)].groupby('gender').size().reset_index(name='count')\n",
    "ax = sns.barplot(x='gender', y='count', data=bogo_completed_gender, ax=axs[0])\n",
    "ax.set_title('BOGO Offers Completed by Gender')\n",
    "ax.set_xlabel('Gender')\n",
    "ax.set_ylabel('Count')\n",
    "ax.set_ylim(0, 10000)\n",
    "for p in ax.patches:\n",
    "    ax.annotate(str(int(p.get_height())), (p.get_x() + 0.3, p.get_height() + 1))\n",
    "\n",
    "# Discount offers completed by gender\n",
    "discount_completed_gender = offer_data[(offer_data['event'] == 'offer completed') & (offer_data['discount'] == 1)].groupby('gender').size().reset_index(name='count')\n",
    "ax = sns.barplot(x='gender', y='count', data=discount_completed_gender, ax=axs[1])\n",
    "ax.set_title('Discount Offers Completed by Gender')\n",
    "ax.set_xlabel('Gender')\n",
    "ax.set_ylabel('Count')\n",
    "ax.set_ylim(0, 10000)\n",
    "for p in ax.patches:\n",
    "    ax.annotate(str(int(p.get_height())), (p.get_x() + 0.3, p.get_height() + 1))\n",
    "\n",
    "# Informational offers completed by gender\n",
    "\n",
    "info_completed_gender = offer_data[(offer_data['event'] == 'offer completed') & (offer_data['informational'] == 1)].groupby('gender').size().reset_index(name='count')\n",
    "ax = sns.barplot(data=info_completed_gender, ax=axs[2])\n",
    "ax.set_title('Informational Offers Completed by Gender')\n",
    "ax.set_xlabel('Gender')\n",
    "ax.set_ylabel('Count')\n",
    "ax.set_ylim(0, 9000)\n",
    "    \n",
    "# Set tight layout and show the plot\n",
    "plt.tight_layout()"
   ]
  },
  {
   "cell_type": "code",
   "execution_count": null,
   "metadata": {},
   "outputs": [],
   "source": [
    "transaction_completed = full_dataset.copy()\n",
    "transaction_completed = transaction_completed[(transaction_completed.event == 'transaction') | (transaction_completed.event == 'offer completed')].reset_index(drop=True)"
   ]
  },
  {
   "cell_type": "code",
   "execution_count": null,
   "metadata": {},
   "outputs": [],
   "source": [
    "ax = sns.countplot(x=\"event\", data=transaction_completed)\n",
    "\n",
    "for p in ax.patches:\n",
    "    ax.annotate(str(int(p.get_height())), (p.get_x() + 0.3, p.get_height() + 1))"
   ]
  },
  {
   "cell_type": "code",
   "execution_count": null,
   "metadata": {
    "tags": []
   },
   "outputs": [],
   "source": [
    "transactions.head()"
   ]
  },
  {
   "cell_type": "code",
   "execution_count": null,
   "metadata": {
    "tags": []
   },
   "outputs": [],
   "source": [
    "sns.boxplot(x='amount_spent', hue='gender', data=transactions, showfliers=True, linewidth=1)"
   ]
  },
  {
   "cell_type": "code",
   "execution_count": null,
   "metadata": {
    "tags": []
   },
   "outputs": [],
   "source": [
    "transactions['amount_spent_bins']"
   ]
  },
  {
   "cell_type": "code",
   "execution_count": null,
   "metadata": {
    "tags": []
   },
   "outputs": [],
   "source": [
    "# Create bins for amount spent\n",
    "bins = [0, 10, 20, 30, 40, 50, np.inf]\n",
    "labels = ['$0-$10', '$10-$20', '$20-$30', '$30-$40', '$40-$50', '$50+']\n",
    "transactions['amount_spent_bins'] = pd.cut(transactions['amount_spent'], bins=bins, labels=labels)\n",
    "\n",
    "plt.subplots(figsize=(5,5))\n",
    "\n",
    "# Plot countplot for amount spent bins by gender\n",
    "sns.countplot(x='amount_spent_bins', hue='gender', data=transactions)\n",
    "plt.title('Amount Spent Bins by Gender')\n",
    "plt.xlabel('Amount Spent Bins')\n",
    "plt.ylabel('Count')\n",
    "plt.show()"
   ]
  },
  {
   "cell_type": "code",
   "execution_count": null,
   "metadata": {
    "tags": []
   },
   "outputs": [],
   "source": [
    "sns.kdeplot(x='age', hue='gender',data=transactions)"
   ]
  },
  {
   "cell_type": "code",
   "execution_count": null,
   "metadata": {},
   "outputs": [],
   "source": [
    "# Filter the data by event type\n",
    "transactions = transaction_completed[transaction_completed['event'] == 'transaction']\n",
    "\n",
    "# Set the pastel color palette\n",
    "sns.set_palette('pastel')\n",
    "\n",
    "# Create subplots for transaction data\n",
    "fig, axs = plt.subplots(nrows=1, ncols=4, figsize=(16, 5))\n",
    "\n",
    "# Plot for number of transactions by gender\n",
    "sns.countplot(x='gender', data=transactions, ax=axs[0])\n",
    "for p in axs[0].patches:\n",
    "    axs[0].annotate(str(int(p.get_height())), (p.get_x() + 0.1, p.get_height() + 1.5))\n",
    "axs[0].set_title('Number of Transactions by Gender')\n",
    "axs[0].set_xlabel('Gender')\n",
    "axs[0].set_ylabel('Count')\n",
    "\n",
    "# Plot for total amount spent by gender\n",
    "sns.barplot(x='gender', y='amount_spent', data=transactions, estimator='sum', errorbar=None,  ax=axs[1])\n",
    "axs[1].set_title('Total Amount Spent by Gender')\n",
    "axs[1].set_xlabel('Gender')\n",
    "axs[1].set_ylabel('Amount')\n",
    "\n",
    "# Plot for total amount spent by age group\n",
    "sns.kdeplot(x='age', y='amount_spent', data=transactions, estimator=sum, ax=axs[2])\n",
    "axs[2].set_title('Total Amount Spent by Age')\n",
    "axs[2].set_xlabel('Age Group')\n",
    "axs[2].set_ylabel('Amount')\n",
    "\n",
    "# Plot for total amount spent by income group\n",
    "sns.kdeplot(x='income', y='amount_spent', data=transactions, estimator=sum, ax=axs[3])\n",
    "axs[3].set_title('Total Amount Spent by Income')\n",
    "axs[3].set_xlabel('Income Group')\n",
    "axs[3].set_ylabel('Amount')\n",
    "\n",
    "# Adjust the layout of the subplots\n",
    "plt.tight_layout()"
   ]
  },
  {
   "cell_type": "code",
   "execution_count": null,
   "metadata": {},
   "outputs": [],
   "source": []
  },
  {
   "cell_type": "markdown",
   "metadata": {},
   "source": [
    "# Model Trainig"
   ]
  },
  {
   "cell_type": "code",
   "execution_count": null,
   "metadata": {
    "tags": []
   },
   "outputs": [],
   "source": [
    "!pip install -Uq pip\n",
    "!pip install -Uq setuptools wheel\n",
    "!pip install -q torch==1.13.1+cpu torchvision==0.14.1+cpu -f https://download.pytorch.org/whl/cpu/torch_stable.html\n",
    "!pip install -q autogluon "
   ]
  },
  {
   "cell_type": "code",
   "execution_count": null,
   "metadata": {
    "tags": []
   },
   "outputs": [],
   "source": [
    "from sklearn.model_selection import train_test_split\n",
    "\n",
    "transaction_completed['buy_with_offer'] = transaction_completed['event'].apply(lambda x: 1 if x == 'offer completed' else 0)\n",
    "\n",
    "# Split the data into training and test sets\n",
    "train, test = train_test_split(transaction_completed, test_size=0.2, random_state=42)"
   ]
  },
  {
   "cell_type": "code",
   "execution_count": null,
   "metadata": {
    "tags": []
   },
   "outputs": [],
   "source": [
    "from autogluon.tabular import TabularDataset, TabularPredictor\n",
    "\n",
    "tain_data = TabularDataset(train)\n",
    "predictor = TabularPredictor(\n",
    "    label=\"buy_with_offer\",\n",
    "    eval_metric='f1',\n",
    "    learner_kwargs={\n",
    "        \"ignored_columns\": ['event', 'person_id', 'offer_id', 'became_member_on']\n",
    "    }\n",
    ")\n",
    "\n",
    "predictor.fit(tain_data, time_limit=600, presets=\"best_quality\")"
   ]
  },
  {
   "cell_type": "code",
   "execution_count": null,
   "metadata": {
    "tags": []
   },
   "outputs": [],
   "source": [
    "predictor.leaderboard(silent=True)"
   ]
  },
  {
   "cell_type": "code",
   "execution_count": null,
   "metadata": {
    "tags": []
   },
   "outputs": [],
   "source": [
    "test_data = TabularDataset(test)\n",
    "\n",
    "predictor.predict(test_data)"
   ]
  },
  {
   "cell_type": "code",
   "execution_count": null,
   "metadata": {
    "tags": []
   },
   "outputs": [],
   "source": [
    "# Import required libraries\n",
    "from sklearn.tree import DecisionTreeClassifier, export_graphviz\n",
    "from sklearn import preprocessing\n",
    "import pandas as pd\n",
    "import graphviz\n",
    "\n",
    "# Load Starbucks customer data\n",
    "data = transaction_completed.drop(columns=['person_id', 'offer_id', 'became_member_on', 'event'])\n",
    "\n",
    "# Encode categorical features as numerical values\n",
    "le = preprocessing.LabelEncoder()\n",
    "data['gender'] = le.fit_transform(data['gender'])\n",
    "\n",
    "# Separate features and labels\n",
    "X = data.drop(['buy_with_offer'], axis=1)\n",
    "y = data['buy_with_offer']\n",
    "\n",
    "# Train a decision tree classifier\n",
    "dt = DecisionTreeClassifier()\n",
    "dt.fit(X, y)\n",
    "\n",
    "# Generate a visual representation of the decision tree\n",
    "dot_data = export_graphviz(dt, out_file=None, feature_names=X.columns.tolist(), class_names=['transaction', 'offer completed'], filled=True, rounded=True)\n",
    "\n"
   ]
  },
  {
   "cell_type": "code",
   "execution_count": null,
   "metadata": {
    "tags": []
   },
   "outputs": [],
   "source": [
    "# Display the decision tree\n",
    "graph = graphviz.Source(dot_data)\n",
    "graph.view()"
   ]
  },
  {
   "cell_type": "code",
   "execution_count": null,
   "metadata": {},
   "outputs": [],
   "source": []
  },
  {
   "cell_type": "code",
   "execution_count": null,
   "metadata": {},
   "outputs": [],
   "source": []
  }
 ],
 "metadata": {
  "kernelspec": {
   "display_name": "Python 3 (ipykernel)",
   "language": "python",
   "name": "python3"
  },
  "language_info": {
   "codemirror_mode": {
    "name": "ipython",
    "version": 3
   },
   "file_extension": ".py",
   "mimetype": "text/x-python",
   "name": "python",
   "nbconvert_exporter": "python",
   "pygments_lexer": "ipython3",
   "version": "3.10.6"
  },
  "toc-showcode": false,
  "vscode": {
   "interpreter": {
    "hash": "e7370f93d1d0cde622a1f8e1c04877d8463912d04d973331ad4851f04de6915a"
   }
  }
 },
 "nbformat": 4,
 "nbformat_minor": 4
}
